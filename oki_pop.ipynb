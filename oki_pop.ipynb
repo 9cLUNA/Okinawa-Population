{
 "cells": [
  {
   "cell_type": "markdown",
   "metadata": {},
   "source": [
    "Importing pandas, numpy, matplotlib and and several packages from the sklearn library."
   ]
  },
  {
   "cell_type": "code",
   "execution_count": 1,
   "metadata": {},
   "outputs": [],
   "source": [
    "import pandas as pd\n",
    "import numpy as np\n",
    "import matplotlib.pyplot as plt\n",
    "from sklearn.model_selection import train_test_split\n",
    "from sklearn.linear_model import LinearRegression\n",
    "from sklearn import metrics\n",
    "%matplotlib inline"
   ]
  },
  {
   "cell_type": "markdown",
   "metadata": {},
   "source": [
    "The data came from Japan's e-Statics website. The csv file contains some miscellaneous information as the first 8 rows. We use skiprows to avoid any read errors."
   ]
  },
  {
   "cell_type": "code",
   "execution_count": 2,
   "metadata": {},
   "outputs": [],
   "source": [
    "df = pd.read_csv('data/FEI_PREF_190228112345.csv', skiprows=8)"
   ]
  },
  {
   "cell_type": "markdown",
   "metadata": {},
   "source": [
    "Lets take a look at what our data looks like using pandas head() to see the top 5 rows & tail() to see the last 5 rows; two important commands to run to get a good look at your dataframe."
   ]
  },
  {
   "cell_type": "code",
   "execution_count": 3,
   "metadata": {},
   "outputs": [
    {
     "data": {
      "text/html": [
       "<div>\n",
       "<style scoped>\n",
       "    .dataframe tbody tr th:only-of-type {\n",
       "        vertical-align: middle;\n",
       "    }\n",
       "\n",
       "    .dataframe tbody tr th {\n",
       "        vertical-align: top;\n",
       "    }\n",
       "\n",
       "    .dataframe thead th {\n",
       "        text-align: right;\n",
       "    }\n",
       "</style>\n",
       "<table border=\"1\" class=\"dataframe\">\n",
       "  <thead>\n",
       "    <tr style=\"text-align: right;\">\n",
       "      <th></th>\n",
       "      <th>AREA Code</th>\n",
       "      <th>AREA</th>\n",
       "      <th>YEAR Code</th>\n",
       "      <th>YEAR</th>\n",
       "      <th>/ITEMS</th>\n",
       "      <th>A1101_Total population (Both sexes)[person]</th>\n",
       "      <th>Annotation</th>\n",
       "      <th>A110101_Total population (Male)[person]</th>\n",
       "      <th>Annotation.1</th>\n",
       "      <th>A110102_Total population (Female)[person]</th>\n",
       "      <th>Annotation.2</th>\n",
       "      <th>A4101_Live births[person]</th>\n",
       "      <th>Annotation.3</th>\n",
       "      <th>A4200_Deaths[person]</th>\n",
       "      <th>Annotation.4</th>\n",
       "      <th>#A05203_Total fertility rate[-]</th>\n",
       "      <th>Annotation.5</th>\n",
       "    </tr>\n",
       "  </thead>\n",
       "  <tbody>\n",
       "    <tr>\n",
       "      <th>0</th>\n",
       "      <td>47000</td>\n",
       "      <td>Okinawa-ken</td>\n",
       "      <td>1995100000</td>\n",
       "      <td>1995</td>\n",
       "      <td>NaN</td>\n",
       "      <td>1273440</td>\n",
       "      <td>NaN</td>\n",
       "      <td>624737</td>\n",
       "      <td>NaN</td>\n",
       "      <td>648703</td>\n",
       "      <td>NaN</td>\n",
       "      <td>16751</td>\n",
       "      <td>NaN</td>\n",
       "      <td>7283</td>\n",
       "      <td>NaN</td>\n",
       "      <td>1.87</td>\n",
       "      <td>NaN</td>\n",
       "    </tr>\n",
       "    <tr>\n",
       "      <th>1</th>\n",
       "      <td>47000</td>\n",
       "      <td>Okinawa-ken</td>\n",
       "      <td>1996100000</td>\n",
       "      <td>1996</td>\n",
       "      <td>NaN</td>\n",
       "      <td>1282000</td>\n",
       "      <td>NaN</td>\n",
       "      <td>629000</td>\n",
       "      <td>NaN</td>\n",
       "      <td>653000</td>\n",
       "      <td>NaN</td>\n",
       "      <td>17064</td>\n",
       "      <td>NaN</td>\n",
       "      <td>7038</td>\n",
       "      <td>NaN</td>\n",
       "      <td>1.86</td>\n",
       "      <td>NaN</td>\n",
       "    </tr>\n",
       "    <tr>\n",
       "      <th>2</th>\n",
       "      <td>47000</td>\n",
       "      <td>Okinawa-ken</td>\n",
       "      <td>1997100000</td>\n",
       "      <td>1997</td>\n",
       "      <td>NaN</td>\n",
       "      <td>1289000</td>\n",
       "      <td>NaN</td>\n",
       "      <td>633000</td>\n",
       "      <td>NaN</td>\n",
       "      <td>657000</td>\n",
       "      <td>NaN</td>\n",
       "      <td>16614</td>\n",
       "      <td>NaN</td>\n",
       "      <td>7381</td>\n",
       "      <td>NaN</td>\n",
       "      <td>1.81</td>\n",
       "      <td>NaN</td>\n",
       "    </tr>\n",
       "    <tr>\n",
       "      <th>3</th>\n",
       "      <td>47000</td>\n",
       "      <td>Okinawa-ken</td>\n",
       "      <td>1998100000</td>\n",
       "      <td>1998</td>\n",
       "      <td>NaN</td>\n",
       "      <td>1298000</td>\n",
       "      <td>NaN</td>\n",
       "      <td>637000</td>\n",
       "      <td>NaN</td>\n",
       "      <td>661000</td>\n",
       "      <td>NaN</td>\n",
       "      <td>16928</td>\n",
       "      <td>NaN</td>\n",
       "      <td>7643</td>\n",
       "      <td>NaN</td>\n",
       "      <td>1.83</td>\n",
       "      <td>NaN</td>\n",
       "    </tr>\n",
       "    <tr>\n",
       "      <th>4</th>\n",
       "      <td>47000</td>\n",
       "      <td>Okinawa-ken</td>\n",
       "      <td>1999100000</td>\n",
       "      <td>1999</td>\n",
       "      <td>NaN</td>\n",
       "      <td>1308000</td>\n",
       "      <td>NaN</td>\n",
       "      <td>642000</td>\n",
       "      <td>NaN</td>\n",
       "      <td>665000</td>\n",
       "      <td>NaN</td>\n",
       "      <td>16680</td>\n",
       "      <td>NaN</td>\n",
       "      <td>7880</td>\n",
       "      <td>NaN</td>\n",
       "      <td>1.79</td>\n",
       "      <td>NaN</td>\n",
       "    </tr>\n",
       "  </tbody>\n",
       "</table>\n",
       "</div>"
      ],
      "text/plain": [
       "   AREA Code         AREA   YEAR Code  YEAR  /ITEMS  \\\n",
       "0      47000  Okinawa-ken  1995100000  1995     NaN   \n",
       "1      47000  Okinawa-ken  1996100000  1996     NaN   \n",
       "2      47000  Okinawa-ken  1997100000  1997     NaN   \n",
       "3      47000  Okinawa-ken  1998100000  1998     NaN   \n",
       "4      47000  Okinawa-ken  1999100000  1999     NaN   \n",
       "\n",
       "   A1101_Total population (Both sexes)[person]  Annotation  \\\n",
       "0                                      1273440         NaN   \n",
       "1                                      1282000         NaN   \n",
       "2                                      1289000         NaN   \n",
       "3                                      1298000         NaN   \n",
       "4                                      1308000         NaN   \n",
       "\n",
       "   A110101_Total population (Male)[person]  Annotation.1  \\\n",
       "0                                   624737           NaN   \n",
       "1                                   629000           NaN   \n",
       "2                                   633000           NaN   \n",
       "3                                   637000           NaN   \n",
       "4                                   642000           NaN   \n",
       "\n",
       "   A110102_Total population (Female)[person]  Annotation.2  \\\n",
       "0                                     648703           NaN   \n",
       "1                                     653000           NaN   \n",
       "2                                     657000           NaN   \n",
       "3                                     661000           NaN   \n",
       "4                                     665000           NaN   \n",
       "\n",
       "   A4101_Live births[person]  Annotation.3  A4200_Deaths[person]  \\\n",
       "0                      16751           NaN                  7283   \n",
       "1                      17064           NaN                  7038   \n",
       "2                      16614           NaN                  7381   \n",
       "3                      16928           NaN                  7643   \n",
       "4                      16680           NaN                  7880   \n",
       "\n",
       "   Annotation.4  #A05203_Total fertility rate[-]  Annotation.5  \n",
       "0           NaN                             1.87           NaN  \n",
       "1           NaN                             1.86           NaN  \n",
       "2           NaN                             1.81           NaN  \n",
       "3           NaN                             1.83           NaN  \n",
       "4           NaN                             1.79           NaN  "
      ]
     },
     "execution_count": 3,
     "metadata": {},
     "output_type": "execute_result"
    }
   ],
   "source": [
    "df.head()"
   ]
  },
  {
   "cell_type": "code",
   "execution_count": 4,
   "metadata": {},
   "outputs": [
    {
     "data": {
      "text/html": [
       "<div>\n",
       "<style scoped>\n",
       "    .dataframe tbody tr th:only-of-type {\n",
       "        vertical-align: middle;\n",
       "    }\n",
       "\n",
       "    .dataframe tbody tr th {\n",
       "        vertical-align: top;\n",
       "    }\n",
       "\n",
       "    .dataframe thead th {\n",
       "        text-align: right;\n",
       "    }\n",
       "</style>\n",
       "<table border=\"1\" class=\"dataframe\">\n",
       "  <thead>\n",
       "    <tr style=\"text-align: right;\">\n",
       "      <th></th>\n",
       "      <th>AREA Code</th>\n",
       "      <th>AREA</th>\n",
       "      <th>YEAR Code</th>\n",
       "      <th>YEAR</th>\n",
       "      <th>/ITEMS</th>\n",
       "      <th>A1101_Total population (Both sexes)[person]</th>\n",
       "      <th>Annotation</th>\n",
       "      <th>A110101_Total population (Male)[person]</th>\n",
       "      <th>Annotation.1</th>\n",
       "      <th>A110102_Total population (Female)[person]</th>\n",
       "      <th>Annotation.2</th>\n",
       "      <th>A4101_Live births[person]</th>\n",
       "      <th>Annotation.3</th>\n",
       "      <th>A4200_Deaths[person]</th>\n",
       "      <th>Annotation.4</th>\n",
       "      <th>#A05203_Total fertility rate[-]</th>\n",
       "      <th>Annotation.5</th>\n",
       "    </tr>\n",
       "  </thead>\n",
       "  <tbody>\n",
       "    <tr>\n",
       "      <th>17</th>\n",
       "      <td>47000</td>\n",
       "      <td>Okinawa-ken</td>\n",
       "      <td>2012100000</td>\n",
       "      <td>2012</td>\n",
       "      <td>NaN</td>\n",
       "      <td>1411000</td>\n",
       "      <td>NaN</td>\n",
       "      <td>693000</td>\n",
       "      <td>NaN</td>\n",
       "      <td>719000</td>\n",
       "      <td>NaN</td>\n",
       "      <td>17074</td>\n",
       "      <td>NaN</td>\n",
       "      <td>10626</td>\n",
       "      <td>NaN</td>\n",
       "      <td>1.90</td>\n",
       "      <td>NaN</td>\n",
       "    </tr>\n",
       "    <tr>\n",
       "      <th>18</th>\n",
       "      <td>47000</td>\n",
       "      <td>Okinawa-ken</td>\n",
       "      <td>2013100000</td>\n",
       "      <td>2013</td>\n",
       "      <td>NaN</td>\n",
       "      <td>1419000</td>\n",
       "      <td>NaN</td>\n",
       "      <td>697000</td>\n",
       "      <td>NaN</td>\n",
       "      <td>722000</td>\n",
       "      <td>NaN</td>\n",
       "      <td>17209</td>\n",
       "      <td>NaN</td>\n",
       "      <td>10956</td>\n",
       "      <td>NaN</td>\n",
       "      <td>1.94</td>\n",
       "      <td>NaN</td>\n",
       "    </tr>\n",
       "    <tr>\n",
       "      <th>19</th>\n",
       "      <td>47000</td>\n",
       "      <td>Okinawa-ken</td>\n",
       "      <td>2014100000</td>\n",
       "      <td>2014</td>\n",
       "      <td>NaN</td>\n",
       "      <td>1426000</td>\n",
       "      <td>NaN</td>\n",
       "      <td>700000</td>\n",
       "      <td>NaN</td>\n",
       "      <td>725000</td>\n",
       "      <td>NaN</td>\n",
       "      <td>16373</td>\n",
       "      <td>NaN</td>\n",
       "      <td>11361</td>\n",
       "      <td>NaN</td>\n",
       "      <td>1.86</td>\n",
       "      <td>NaN</td>\n",
       "    </tr>\n",
       "    <tr>\n",
       "      <th>20</th>\n",
       "      <td>47000</td>\n",
       "      <td>Okinawa-ken</td>\n",
       "      <td>2015100000</td>\n",
       "      <td>2015</td>\n",
       "      <td>NaN</td>\n",
       "      <td>1433566</td>\n",
       "      <td>NaN</td>\n",
       "      <td>704619</td>\n",
       "      <td>NaN</td>\n",
       "      <td>728947</td>\n",
       "      <td>NaN</td>\n",
       "      <td>16941</td>\n",
       "      <td>NaN</td>\n",
       "      <td>11326</td>\n",
       "      <td>NaN</td>\n",
       "      <td>1.96</td>\n",
       "      <td>NaN</td>\n",
       "    </tr>\n",
       "    <tr>\n",
       "      <th>21</th>\n",
       "      <td>47000</td>\n",
       "      <td>Okinawa-ken</td>\n",
       "      <td>2016100000</td>\n",
       "      <td>2016</td>\n",
       "      <td>NaN</td>\n",
       "      <td>1439000</td>\n",
       "      <td>NaN</td>\n",
       "      <td>708000</td>\n",
       "      <td>NaN</td>\n",
       "      <td>732000</td>\n",
       "      <td>NaN</td>\n",
       "      <td>16617</td>\n",
       "      <td>NaN</td>\n",
       "      <td>11706</td>\n",
       "      <td>NaN</td>\n",
       "      <td>1.95</td>\n",
       "      <td>NaN</td>\n",
       "    </tr>\n",
       "  </tbody>\n",
       "</table>\n",
       "</div>"
      ],
      "text/plain": [
       "    AREA Code         AREA   YEAR Code  YEAR  /ITEMS  \\\n",
       "17      47000  Okinawa-ken  2012100000  2012     NaN   \n",
       "18      47000  Okinawa-ken  2013100000  2013     NaN   \n",
       "19      47000  Okinawa-ken  2014100000  2014     NaN   \n",
       "20      47000  Okinawa-ken  2015100000  2015     NaN   \n",
       "21      47000  Okinawa-ken  2016100000  2016     NaN   \n",
       "\n",
       "    A1101_Total population (Both sexes)[person]  Annotation  \\\n",
       "17                                      1411000         NaN   \n",
       "18                                      1419000         NaN   \n",
       "19                                      1426000         NaN   \n",
       "20                                      1433566         NaN   \n",
       "21                                      1439000         NaN   \n",
       "\n",
       "    A110101_Total population (Male)[person]  Annotation.1  \\\n",
       "17                                   693000           NaN   \n",
       "18                                   697000           NaN   \n",
       "19                                   700000           NaN   \n",
       "20                                   704619           NaN   \n",
       "21                                   708000           NaN   \n",
       "\n",
       "    A110102_Total population (Female)[person]  Annotation.2  \\\n",
       "17                                     719000           NaN   \n",
       "18                                     722000           NaN   \n",
       "19                                     725000           NaN   \n",
       "20                                     728947           NaN   \n",
       "21                                     732000           NaN   \n",
       "\n",
       "    A4101_Live births[person]  Annotation.3  A4200_Deaths[person]  \\\n",
       "17                      17074           NaN                 10626   \n",
       "18                      17209           NaN                 10956   \n",
       "19                      16373           NaN                 11361   \n",
       "20                      16941           NaN                 11326   \n",
       "21                      16617           NaN                 11706   \n",
       "\n",
       "    Annotation.4  #A05203_Total fertility rate[-]  Annotation.5  \n",
       "17           NaN                             1.90           NaN  \n",
       "18           NaN                             1.94           NaN  \n",
       "19           NaN                             1.86           NaN  \n",
       "20           NaN                             1.96           NaN  \n",
       "21           NaN                             1.95           NaN  "
      ]
     },
     "execution_count": 4,
     "metadata": {},
     "output_type": "execute_result"
    }
   ],
   "source": [
    "df.tail()"
   ]
  },
  {
   "cell_type": "markdown",
   "metadata": {},
   "source": [
    "Now lets look at the kind of info inside the dataframe."
   ]
  },
  {
   "cell_type": "code",
   "execution_count": 5,
   "metadata": {},
   "outputs": [
    {
     "name": "stdout",
     "output_type": "stream",
     "text": [
      "<class 'pandas.core.frame.DataFrame'>\n",
      "RangeIndex: 22 entries, 0 to 21\n",
      "Data columns (total 17 columns):\n",
      "AREA Code                                      22 non-null int64\n",
      "AREA                                           22 non-null object\n",
      "YEAR Code                                      22 non-null int64\n",
      "YEAR                                           22 non-null int64\n",
      "/ITEMS                                         0 non-null float64\n",
      "A1101_Total population (Both sexes)[person]    22 non-null int64\n",
      "Annotation                                     0 non-null float64\n",
      "A110101_Total population (Male)[person]        22 non-null int64\n",
      "Annotation.1                                   0 non-null float64\n",
      "A110102_Total population (Female)[person]      22 non-null int64\n",
      "Annotation.2                                   0 non-null float64\n",
      "A4101_Live births[person]                      22 non-null int64\n",
      "Annotation.3                                   0 non-null float64\n",
      "A4200_Deaths[person]                           22 non-null int64\n",
      "Annotation.4                                   0 non-null float64\n",
      "#A05203_Total fertility rate[-]                22 non-null float64\n",
      "Annotation.5                                   0 non-null float64\n",
      "dtypes: float64(8), int64(8), object(1)\n",
      "memory usage: 3.0+ KB\n"
     ]
    }
   ],
   "source": [
    "df.info()"
   ]
  },
  {
   "cell_type": "markdown",
   "metadata": {},
   "source": [
    "There is a lot of columns that aren't required for our analysis. We can drop those from the dataframe. I went simple with just the single dropna command to find any columns with NaN values."
   ]
  },
  {
   "cell_type": "code",
   "execution_count": 6,
   "metadata": {},
   "outputs": [],
   "source": [
    "df = df.dropna(axis = 'columns')"
   ]
  },
  {
   "cell_type": "markdown",
   "metadata": {},
   "source": [
    "Lets see what it looks like now."
   ]
  },
  {
   "cell_type": "code",
   "execution_count": 7,
   "metadata": {
    "scrolled": true
   },
   "outputs": [
    {
     "data": {
      "text/html": [
       "<div>\n",
       "<style scoped>\n",
       "    .dataframe tbody tr th:only-of-type {\n",
       "        vertical-align: middle;\n",
       "    }\n",
       "\n",
       "    .dataframe tbody tr th {\n",
       "        vertical-align: top;\n",
       "    }\n",
       "\n",
       "    .dataframe thead th {\n",
       "        text-align: right;\n",
       "    }\n",
       "</style>\n",
       "<table border=\"1\" class=\"dataframe\">\n",
       "  <thead>\n",
       "    <tr style=\"text-align: right;\">\n",
       "      <th></th>\n",
       "      <th>AREA Code</th>\n",
       "      <th>AREA</th>\n",
       "      <th>YEAR Code</th>\n",
       "      <th>YEAR</th>\n",
       "      <th>A1101_Total population (Both sexes)[person]</th>\n",
       "      <th>A110101_Total population (Male)[person]</th>\n",
       "      <th>A110102_Total population (Female)[person]</th>\n",
       "      <th>A4101_Live births[person]</th>\n",
       "      <th>A4200_Deaths[person]</th>\n",
       "      <th>#A05203_Total fertility rate[-]</th>\n",
       "    </tr>\n",
       "  </thead>\n",
       "  <tbody>\n",
       "    <tr>\n",
       "      <th>0</th>\n",
       "      <td>47000</td>\n",
       "      <td>Okinawa-ken</td>\n",
       "      <td>1995100000</td>\n",
       "      <td>1995</td>\n",
       "      <td>1273440</td>\n",
       "      <td>624737</td>\n",
       "      <td>648703</td>\n",
       "      <td>16751</td>\n",
       "      <td>7283</td>\n",
       "      <td>1.87</td>\n",
       "    </tr>\n",
       "    <tr>\n",
       "      <th>1</th>\n",
       "      <td>47000</td>\n",
       "      <td>Okinawa-ken</td>\n",
       "      <td>1996100000</td>\n",
       "      <td>1996</td>\n",
       "      <td>1282000</td>\n",
       "      <td>629000</td>\n",
       "      <td>653000</td>\n",
       "      <td>17064</td>\n",
       "      <td>7038</td>\n",
       "      <td>1.86</td>\n",
       "    </tr>\n",
       "    <tr>\n",
       "      <th>2</th>\n",
       "      <td>47000</td>\n",
       "      <td>Okinawa-ken</td>\n",
       "      <td>1997100000</td>\n",
       "      <td>1997</td>\n",
       "      <td>1289000</td>\n",
       "      <td>633000</td>\n",
       "      <td>657000</td>\n",
       "      <td>16614</td>\n",
       "      <td>7381</td>\n",
       "      <td>1.81</td>\n",
       "    </tr>\n",
       "    <tr>\n",
       "      <th>3</th>\n",
       "      <td>47000</td>\n",
       "      <td>Okinawa-ken</td>\n",
       "      <td>1998100000</td>\n",
       "      <td>1998</td>\n",
       "      <td>1298000</td>\n",
       "      <td>637000</td>\n",
       "      <td>661000</td>\n",
       "      <td>16928</td>\n",
       "      <td>7643</td>\n",
       "      <td>1.83</td>\n",
       "    </tr>\n",
       "    <tr>\n",
       "      <th>4</th>\n",
       "      <td>47000</td>\n",
       "      <td>Okinawa-ken</td>\n",
       "      <td>1999100000</td>\n",
       "      <td>1999</td>\n",
       "      <td>1308000</td>\n",
       "      <td>642000</td>\n",
       "      <td>665000</td>\n",
       "      <td>16680</td>\n",
       "      <td>7880</td>\n",
       "      <td>1.79</td>\n",
       "    </tr>\n",
       "  </tbody>\n",
       "</table>\n",
       "</div>"
      ],
      "text/plain": [
       "   AREA Code         AREA   YEAR Code  YEAR  \\\n",
       "0      47000  Okinawa-ken  1995100000  1995   \n",
       "1      47000  Okinawa-ken  1996100000  1996   \n",
       "2      47000  Okinawa-ken  1997100000  1997   \n",
       "3      47000  Okinawa-ken  1998100000  1998   \n",
       "4      47000  Okinawa-ken  1999100000  1999   \n",
       "\n",
       "   A1101_Total population (Both sexes)[person]  \\\n",
       "0                                      1273440   \n",
       "1                                      1282000   \n",
       "2                                      1289000   \n",
       "3                                      1298000   \n",
       "4                                      1308000   \n",
       "\n",
       "   A110101_Total population (Male)[person]  \\\n",
       "0                                   624737   \n",
       "1                                   629000   \n",
       "2                                   633000   \n",
       "3                                   637000   \n",
       "4                                   642000   \n",
       "\n",
       "   A110102_Total population (Female)[person]  A4101_Live births[person]  \\\n",
       "0                                     648703                      16751   \n",
       "1                                     653000                      17064   \n",
       "2                                     657000                      16614   \n",
       "3                                     661000                      16928   \n",
       "4                                     665000                      16680   \n",
       "\n",
       "   A4200_Deaths[person]  #A05203_Total fertility rate[-]  \n",
       "0                  7283                             1.87  \n",
       "1                  7038                             1.86  \n",
       "2                  7381                             1.81  \n",
       "3                  7643                             1.83  \n",
       "4                  7880                             1.79  "
      ]
     },
     "execution_count": 7,
     "metadata": {},
     "output_type": "execute_result"
    }
   ],
   "source": [
    "df.head()"
   ]
  },
  {
   "cell_type": "markdown",
   "metadata": {},
   "source": [
    "Before we have a look at our dataframe, lets drop the columns AREA Code, AREA and YEAR Code. These are just taking up extra space and I already know all this data is for prefecture Okinawa."
   ]
  },
  {
   "cell_type": "code",
   "execution_count": 8,
   "metadata": {},
   "outputs": [],
   "source": [
    "df.drop(['AREA Code', 'AREA', 'YEAR Code'], axis=1, inplace=True)"
   ]
  },
  {
   "cell_type": "markdown",
   "metadata": {},
   "source": [
    "Again, before we look at our finish dataframe product, lets do the final cleaning of the remaining column names to make them a bit more readable. I'm going to use the new pandas method of set_axis. I'm also going to drop the FERTILITY RATE column since I don't think I'll need it."
   ]
  },
  {
   "cell_type": "code",
   "execution_count": 9,
   "metadata": {},
   "outputs": [],
   "source": [
    "df.set_axis(['YEAR', 'TOTAL POP', 'MALE POP', 'FEMALE POP', 'BIRTHS', 'DEATHS', 'FERTILITY RATE'], axis='columns', inplace=True)\n",
    "df.drop(['FERTILITY RATE'], axis=1, inplace=True)"
   ]
  },
  {
   "cell_type": "markdown",
   "metadata": {},
   "source": [
    "Now lets take a look at the dataframe head() again."
   ]
  },
  {
   "cell_type": "code",
   "execution_count": 10,
   "metadata": {},
   "outputs": [
    {
     "data": {
      "text/html": [
       "<div>\n",
       "<style scoped>\n",
       "    .dataframe tbody tr th:only-of-type {\n",
       "        vertical-align: middle;\n",
       "    }\n",
       "\n",
       "    .dataframe tbody tr th {\n",
       "        vertical-align: top;\n",
       "    }\n",
       "\n",
       "    .dataframe thead th {\n",
       "        text-align: right;\n",
       "    }\n",
       "</style>\n",
       "<table border=\"1\" class=\"dataframe\">\n",
       "  <thead>\n",
       "    <tr style=\"text-align: right;\">\n",
       "      <th></th>\n",
       "      <th>YEAR</th>\n",
       "      <th>TOTAL POP</th>\n",
       "      <th>MALE POP</th>\n",
       "      <th>FEMALE POP</th>\n",
       "      <th>BIRTHS</th>\n",
       "      <th>DEATHS</th>\n",
       "    </tr>\n",
       "  </thead>\n",
       "  <tbody>\n",
       "    <tr>\n",
       "      <th>0</th>\n",
       "      <td>1995</td>\n",
       "      <td>1273440</td>\n",
       "      <td>624737</td>\n",
       "      <td>648703</td>\n",
       "      <td>16751</td>\n",
       "      <td>7283</td>\n",
       "    </tr>\n",
       "    <tr>\n",
       "      <th>1</th>\n",
       "      <td>1996</td>\n",
       "      <td>1282000</td>\n",
       "      <td>629000</td>\n",
       "      <td>653000</td>\n",
       "      <td>17064</td>\n",
       "      <td>7038</td>\n",
       "    </tr>\n",
       "    <tr>\n",
       "      <th>2</th>\n",
       "      <td>1997</td>\n",
       "      <td>1289000</td>\n",
       "      <td>633000</td>\n",
       "      <td>657000</td>\n",
       "      <td>16614</td>\n",
       "      <td>7381</td>\n",
       "    </tr>\n",
       "    <tr>\n",
       "      <th>3</th>\n",
       "      <td>1998</td>\n",
       "      <td>1298000</td>\n",
       "      <td>637000</td>\n",
       "      <td>661000</td>\n",
       "      <td>16928</td>\n",
       "      <td>7643</td>\n",
       "    </tr>\n",
       "    <tr>\n",
       "      <th>4</th>\n",
       "      <td>1999</td>\n",
       "      <td>1308000</td>\n",
       "      <td>642000</td>\n",
       "      <td>665000</td>\n",
       "      <td>16680</td>\n",
       "      <td>7880</td>\n",
       "    </tr>\n",
       "  </tbody>\n",
       "</table>\n",
       "</div>"
      ],
      "text/plain": [
       "   YEAR  TOTAL POP  MALE POP  FEMALE POP  BIRTHS  DEATHS\n",
       "0  1995    1273440    624737      648703   16751    7283\n",
       "1  1996    1282000    629000      653000   17064    7038\n",
       "2  1997    1289000    633000      657000   16614    7381\n",
       "3  1998    1298000    637000      661000   16928    7643\n",
       "4  1999    1308000    642000      665000   16680    7880"
      ]
     },
     "execution_count": 10,
     "metadata": {},
     "output_type": "execute_result"
    }
   ],
   "source": [
    "df.head()"
   ]
  },
  {
   "cell_type": "markdown",
   "metadata": {},
   "source": [
    "Looks sharp. Now lets check the shape and info one final time."
   ]
  },
  {
   "cell_type": "code",
   "execution_count": 11,
   "metadata": {},
   "outputs": [
    {
     "name": "stdout",
     "output_type": "stream",
     "text": [
      "<class 'pandas.core.frame.DataFrame'>\n",
      "RangeIndex: 22 entries, 0 to 21\n",
      "Data columns (total 6 columns):\n",
      "YEAR          22 non-null int64\n",
      "TOTAL POP     22 non-null int64\n",
      "MALE POP      22 non-null int64\n",
      "FEMALE POP    22 non-null int64\n",
      "BIRTHS        22 non-null int64\n",
      "DEATHS        22 non-null int64\n",
      "dtypes: int64(6)\n",
      "memory usage: 1.1 KB\n"
     ]
    },
    {
     "data": {
      "text/plain": [
       "(22, 6)"
      ]
     },
     "execution_count": 11,
     "metadata": {},
     "output_type": "execute_result"
    }
   ],
   "source": [
    "df.info()\n",
    "df.shape"
   ]
  },
  {
   "cell_type": "markdown",
   "metadata": {},
   "source": [
    "Just making sure our values are still INTEGER datatypes. Lets do a quick and dirty plot."
   ]
  },
  {
   "cell_type": "code",
   "execution_count": 12,
   "metadata": {},
   "outputs": [
    {
     "data": {
      "image/png": "[encoded data removed]",
      "text/plain": [
       "<Figure size 432x288 with 1 Axes>"
      ]
     },
     "metadata": {
      "needs_background": "light"
     },
     "output_type": "display_data"
    }
   ],
   "source": [
    "df.plot(x='YEAR', y='TOTAL POP', style='o')\n",
    "plt.title('Population Of Okinawa')\n",
    "plt.xlabel('Years')\n",
    "plt.ylabel('Population')\n",
    "plt.show()"
   ]
  },
  {
   "cell_type": "markdown",
   "metadata": {},
   "source": [
    "Neat. Now lets look at Births and Deaths on a line graph."
   ]
  },
  {
   "cell_type": "code",
   "execution_count": 13,
   "metadata": {},
   "outputs": [
    {
     "data": {
      "text/plain": [
       "<matplotlib.axes._subplots.AxesSubplot at 0x7fc1f9e80748>"
      ]
     },
     "execution_count": 13,
     "metadata": {},
     "output_type": "execute_result"
    },
    {
     "data": {
      "image/png": "[encoded data removed]",
      "text/plain": [
       "<Figure size 432x288 with 1 Axes>"
      ]
     },
     "metadata": {
      "needs_background": "light"
     },
     "output_type": "display_data"
    }
   ],
   "source": [
    "df.plot(x='YEAR', y=['BIRTHS', 'DEATHS'], grid=True)"
   ]
  },
  {
   "cell_type": "markdown",
   "metadata": {},
   "source": [
    "Deaths seem to be on the rise Interesting. Lets see a stacked bar graph of the MALE and FEMALE numbers."
   ]
  },
  {
   "cell_type": "code",
   "execution_count": 14,
   "metadata": {},
   "outputs": [
    {
     "data": {
      "image/png": "[encoded data removed]",
      "text/plain": [
       "<Figure size 432x288 with 2 Axes>"
      ]
     },
     "metadata": {
      "needs_background": "light"
     },
     "output_type": "display_data"
    }
   ],
   "source": [
    "df.plot(x='YEAR', y=['MALE POP', 'FEMALE POP'], stacked=True, kind='bar')\n",
    "ax = df['TOTAL POP'].plot(secondary_y=True, color='k', marker='o')\n",
    "ax.set_ylabel('Total')\n",
    "plt.show()"
   ]
  },
  {
   "cell_type": "markdown",
   "metadata": {},
   "source": [
    "It is indeed ugly, but lucky for me I remembered to sort the data by year at extraction. If I didn't, the newest year would be on top and this chart would be reversed. In that case I would have to run step slice. [start:end:step] so the first two are blank and -1 is in the step slice. Therefore the entire dataframe is copied over in reverse order. Thanks to user Grote in the Python Discord for the help!\n",
    "\n",
    "df = df.iloc[::-1]\n",
    "\n",
    "followed by this to reset the index and drop=True to note we are getting rid of the old index.\n",
    "\n",
    "df = df.reset_index(drop=True)"
   ]
  },
  {
   "cell_type": "markdown",
   "metadata": {},
   "source": [
    "Also, stacking the male and female population really didn't give us information of course because they are stacked and based upon one another for the total. A line graph is better to see the difference."
   ]
  },
  {
   "cell_type": "code",
   "execution_count": 15,
   "metadata": {},
   "outputs": [
    {
     "data": {
      "text/plain": [
       "<matplotlib.axes._subplots.AxesSubplot at 0x7fc1f9c200f0>"
      ]
     },
     "execution_count": 15,
     "metadata": {},
     "output_type": "execute_result"
    },
    {
     "data": {
      "image/png": "[encoded data removed]",
      "text/plain": [
       "<Figure size 432x288 with 1 Axes>"
      ]
     },
     "metadata": {
      "needs_background": "light"
     },
     "output_type": "display_data"
    }
   ],
   "source": [
    "df.plot(x='YEAR', y=['MALE POP', 'FEMALE POP'], grid=True)"
   ]
  },
  {
   "cell_type": "markdown",
   "metadata": {},
   "source": [
    "Interesting. Just by looking at this simple graph, we can see that there is a gap which might be growing between population of women and men. Also, while the women population is quite normal, the men's population had a slightly noticeable decrease sometime before 2010, maybe 2008. Let me remember how many rows we have of data."
   ]
  },
  {
   "cell_type": "code",
   "execution_count": 16,
   "metadata": {},
   "outputs": [
    {
     "data": {
      "text/plain": [
       "(22, 6)"
      ]
     },
     "execution_count": 16,
     "metadata": {},
     "output_type": "execute_result"
    }
   ],
   "source": [
    "df.shape"
   ]
  },
  {
   "cell_type": "markdown",
   "metadata": {},
   "source": [
    "Oh right, 22. Ok. So let me look at the bottom 15 rows using slice again."
   ]
  },
  {
   "cell_type": "code",
   "execution_count": 17,
   "metadata": {},
   "outputs": [
    {
     "data": {
      "text/html": [
       "<div>\n",
       "<style scoped>\n",
       "    .dataframe tbody tr th:only-of-type {\n",
       "        vertical-align: middle;\n",
       "    }\n",
       "\n",
       "    .dataframe tbody tr th {\n",
       "        vertical-align: top;\n",
       "    }\n",
       "\n",
       "    .dataframe thead th {\n",
       "        text-align: right;\n",
       "    }\n",
       "</style>\n",
       "<table border=\"1\" class=\"dataframe\">\n",
       "  <thead>\n",
       "    <tr style=\"text-align: right;\">\n",
       "      <th></th>\n",
       "      <th>YEAR</th>\n",
       "      <th>TOTAL POP</th>\n",
       "      <th>MALE POP</th>\n",
       "      <th>FEMALE POP</th>\n",
       "      <th>BIRTHS</th>\n",
       "      <th>DEATHS</th>\n",
       "    </tr>\n",
       "  </thead>\n",
       "  <tbody>\n",
       "    <tr>\n",
       "      <th>7</th>\n",
       "      <td>2002</td>\n",
       "      <td>1336000</td>\n",
       "      <td>657000</td>\n",
       "      <td>679000</td>\n",
       "      <td>16571</td>\n",
       "      <td>8037</td>\n",
       "    </tr>\n",
       "    <tr>\n",
       "      <th>8</th>\n",
       "      <td>2003</td>\n",
       "      <td>1345000</td>\n",
       "      <td>661000</td>\n",
       "      <td>684000</td>\n",
       "      <td>16303</td>\n",
       "      <td>8433</td>\n",
       "    </tr>\n",
       "    <tr>\n",
       "      <th>9</th>\n",
       "      <td>2004</td>\n",
       "      <td>1353000</td>\n",
       "      <td>665000</td>\n",
       "      <td>689000</td>\n",
       "      <td>16362</td>\n",
       "      <td>8610</td>\n",
       "    </tr>\n",
       "    <tr>\n",
       "      <th>10</th>\n",
       "      <td>2005</td>\n",
       "      <td>1361594</td>\n",
       "      <td>668502</td>\n",
       "      <td>693092</td>\n",
       "      <td>16115</td>\n",
       "      <td>9021</td>\n",
       "    </tr>\n",
       "    <tr>\n",
       "      <th>11</th>\n",
       "      <td>2006</td>\n",
       "      <td>1369000</td>\n",
       "      <td>672000</td>\n",
       "      <td>697000</td>\n",
       "      <td>16483</td>\n",
       "      <td>9121</td>\n",
       "    </tr>\n",
       "    <tr>\n",
       "      <th>12</th>\n",
       "      <td>2007</td>\n",
       "      <td>1374000</td>\n",
       "      <td>674000</td>\n",
       "      <td>700000</td>\n",
       "      <td>16588</td>\n",
       "      <td>9399</td>\n",
       "    </tr>\n",
       "    <tr>\n",
       "      <th>13</th>\n",
       "      <td>2008</td>\n",
       "      <td>1378000</td>\n",
       "      <td>675000</td>\n",
       "      <td>703000</td>\n",
       "      <td>16736</td>\n",
       "      <td>9492</td>\n",
       "    </tr>\n",
       "    <tr>\n",
       "      <th>14</th>\n",
       "      <td>2009</td>\n",
       "      <td>1385000</td>\n",
       "      <td>679000</td>\n",
       "      <td>706000</td>\n",
       "      <td>16744</td>\n",
       "      <td>9923</td>\n",
       "    </tr>\n",
       "    <tr>\n",
       "      <th>15</th>\n",
       "      <td>2010</td>\n",
       "      <td>1392818</td>\n",
       "      <td>683328</td>\n",
       "      <td>709490</td>\n",
       "      <td>17098</td>\n",
       "      <td>10156</td>\n",
       "    </tr>\n",
       "    <tr>\n",
       "      <th>16</th>\n",
       "      <td>2011</td>\n",
       "      <td>1402000</td>\n",
       "      <td>688000</td>\n",
       "      <td>714000</td>\n",
       "      <td>16918</td>\n",
       "      <td>10686</td>\n",
       "    </tr>\n",
       "    <tr>\n",
       "      <th>17</th>\n",
       "      <td>2012</td>\n",
       "      <td>1411000</td>\n",
       "      <td>693000</td>\n",
       "      <td>719000</td>\n",
       "      <td>17074</td>\n",
       "      <td>10626</td>\n",
       "    </tr>\n",
       "    <tr>\n",
       "      <th>18</th>\n",
       "      <td>2013</td>\n",
       "      <td>1419000</td>\n",
       "      <td>697000</td>\n",
       "      <td>722000</td>\n",
       "      <td>17209</td>\n",
       "      <td>10956</td>\n",
       "    </tr>\n",
       "    <tr>\n",
       "      <th>19</th>\n",
       "      <td>2014</td>\n",
       "      <td>1426000</td>\n",
       "      <td>700000</td>\n",
       "      <td>725000</td>\n",
       "      <td>16373</td>\n",
       "      <td>11361</td>\n",
       "    </tr>\n",
       "    <tr>\n",
       "      <th>20</th>\n",
       "      <td>2015</td>\n",
       "      <td>1433566</td>\n",
       "      <td>704619</td>\n",
       "      <td>728947</td>\n",
       "      <td>16941</td>\n",
       "      <td>11326</td>\n",
       "    </tr>\n",
       "    <tr>\n",
       "      <th>21</th>\n",
       "      <td>2016</td>\n",
       "      <td>1439000</td>\n",
       "      <td>708000</td>\n",
       "      <td>732000</td>\n",
       "      <td>16617</td>\n",
       "      <td>11706</td>\n",
       "    </tr>\n",
       "  </tbody>\n",
       "</table>\n",
       "</div>"
      ],
      "text/plain": [
       "    YEAR  TOTAL POP  MALE POP  FEMALE POP  BIRTHS  DEATHS\n",
       "7   2002    1336000    657000      679000   16571    8037\n",
       "8   2003    1345000    661000      684000   16303    8433\n",
       "9   2004    1353000    665000      689000   16362    8610\n",
       "10  2005    1361594    668502      693092   16115    9021\n",
       "11  2006    1369000    672000      697000   16483    9121\n",
       "12  2007    1374000    674000      700000   16588    9399\n",
       "13  2008    1378000    675000      703000   16736    9492\n",
       "14  2009    1385000    679000      706000   16744    9923\n",
       "15  2010    1392818    683328      709490   17098   10156\n",
       "16  2011    1402000    688000      714000   16918   10686\n",
       "17  2012    1411000    693000      719000   17074   10626\n",
       "18  2013    1419000    697000      722000   17209   10956\n",
       "19  2014    1426000    700000      725000   16373   11361\n",
       "20  2015    1433566    704619      728947   16941   11326\n",
       "21  2016    1439000    708000      732000   16617   11706"
      ]
     },
     "execution_count": 17,
     "metadata": {},
     "output_type": "execute_result"
    }
   ],
   "source": [
    "df.iloc[-15:]"
   ]
  },
  {
   "cell_type": "markdown",
   "metadata": {},
   "source": [
    "Great, 2008 is in there with some years to chew on the top. Lets find the percentage change in this little part of the dataset to see how much that slow down was and exactly where it was. Now lets use loc to show only a part of the dataframe and pct_change to find the percentage change from previous year to next. Finally, we'll multiply it all by 100 to get the decimal in a place to actually see the percentage and do the conversion in our head."
   ]
  },
  {
   "cell_type": "code",
   "execution_count": 18,
   "metadata": {},
   "outputs": [
    {
     "data": {
      "text/html": [
       "<div>\n",
       "<style scoped>\n",
       "    .dataframe tbody tr th:only-of-type {\n",
       "        vertical-align: middle;\n",
       "    }\n",
       "\n",
       "    .dataframe tbody tr th {\n",
       "        vertical-align: top;\n",
       "    }\n",
       "\n",
       "    .dataframe thead th {\n",
       "        text-align: right;\n",
       "    }\n",
       "</style>\n",
       "<table border=\"1\" class=\"dataframe\">\n",
       "  <thead>\n",
       "    <tr style=\"text-align: right;\">\n",
       "      <th></th>\n",
       "      <th>MALE POP</th>\n",
       "      <th>FEMALE POP</th>\n",
       "    </tr>\n",
       "  </thead>\n",
       "  <tbody>\n",
       "    <tr>\n",
       "      <th>7</th>\n",
       "      <td>NaN</td>\n",
       "      <td>NaN</td>\n",
       "    </tr>\n",
       "    <tr>\n",
       "      <th>8</th>\n",
       "      <td>0.608828</td>\n",
       "      <td>0.736377</td>\n",
       "    </tr>\n",
       "    <tr>\n",
       "      <th>9</th>\n",
       "      <td>0.605144</td>\n",
       "      <td>0.730994</td>\n",
       "    </tr>\n",
       "    <tr>\n",
       "      <th>10</th>\n",
       "      <td>0.526617</td>\n",
       "      <td>0.593904</td>\n",
       "    </tr>\n",
       "    <tr>\n",
       "      <th>11</th>\n",
       "      <td>0.523259</td>\n",
       "      <td>0.563850</td>\n",
       "    </tr>\n",
       "    <tr>\n",
       "      <th>12</th>\n",
       "      <td>0.297619</td>\n",
       "      <td>0.430416</td>\n",
       "    </tr>\n",
       "    <tr>\n",
       "      <th>13</th>\n",
       "      <td>0.148368</td>\n",
       "      <td>0.428571</td>\n",
       "    </tr>\n",
       "    <tr>\n",
       "      <th>14</th>\n",
       "      <td>0.592593</td>\n",
       "      <td>0.426743</td>\n",
       "    </tr>\n",
       "    <tr>\n",
       "      <th>15</th>\n",
       "      <td>0.637408</td>\n",
       "      <td>0.494334</td>\n",
       "    </tr>\n",
       "    <tr>\n",
       "      <th>16</th>\n",
       "      <td>0.683713</td>\n",
       "      <td>0.635668</td>\n",
       "    </tr>\n",
       "    <tr>\n",
       "      <th>17</th>\n",
       "      <td>0.726744</td>\n",
       "      <td>0.700280</td>\n",
       "    </tr>\n",
       "    <tr>\n",
       "      <th>18</th>\n",
       "      <td>0.577201</td>\n",
       "      <td>0.417246</td>\n",
       "    </tr>\n",
       "    <tr>\n",
       "      <th>19</th>\n",
       "      <td>0.430416</td>\n",
       "      <td>0.415512</td>\n",
       "    </tr>\n",
       "    <tr>\n",
       "      <th>20</th>\n",
       "      <td>0.659857</td>\n",
       "      <td>0.544414</td>\n",
       "    </tr>\n",
       "    <tr>\n",
       "      <th>21</th>\n",
       "      <td>0.479834</td>\n",
       "      <td>0.418823</td>\n",
       "    </tr>\n",
       "  </tbody>\n",
       "</table>\n",
       "</div>"
      ],
      "text/plain": [
       "    MALE POP  FEMALE POP\n",
       "7        NaN         NaN\n",
       "8   0.608828    0.736377\n",
       "9   0.605144    0.730994\n",
       "10  0.526617    0.593904\n",
       "11  0.523259    0.563850\n",
       "12  0.297619    0.430416\n",
       "13  0.148368    0.428571\n",
       "14  0.592593    0.426743\n",
       "15  0.637408    0.494334\n",
       "16  0.683713    0.635668\n",
       "17  0.726744    0.700280\n",
       "18  0.577201    0.417246\n",
       "19  0.430416    0.415512\n",
       "20  0.659857    0.544414\n",
       "21  0.479834    0.418823"
      ]
     },
     "execution_count": 18,
     "metadata": {},
     "output_type": "execute_result"
    }
   ],
   "source": [
    "df.loc[7::,['MALE POP', 'FEMALE POP']].pct_change() * 100"
   ]
  },
  {
   "cell_type": "markdown",
   "metadata": {},
   "source": [
    "You can see that while the FEMALE percentage change from these years is generally above .4 percent, the MALE had a slow down at index 13 which is year 2008. The change dropped down to .001484 here. OK. Now lets move on to predictions! Lets look at the whole dataframe one more time."
   ]
  },
  {
   "cell_type": "code",
   "execution_count": 19,
   "metadata": {},
   "outputs": [
    {
     "data": {
      "text/html": [
       "<div>\n",
       "<style scoped>\n",
       "    .dataframe tbody tr th:only-of-type {\n",
       "        vertical-align: middle;\n",
       "    }\n",
       "\n",
       "    .dataframe tbody tr th {\n",
       "        vertical-align: top;\n",
       "    }\n",
       "\n",
       "    .dataframe thead th {\n",
       "        text-align: right;\n",
       "    }\n",
       "</style>\n",
       "<table border=\"1\" class=\"dataframe\">\n",
       "  <thead>\n",
       "    <tr style=\"text-align: right;\">\n",
       "      <th></th>\n",
       "      <th>YEAR</th>\n",
       "      <th>TOTAL POP</th>\n",
       "      <th>MALE POP</th>\n",
       "      <th>FEMALE POP</th>\n",
       "      <th>BIRTHS</th>\n",
       "      <th>DEATHS</th>\n",
       "    </tr>\n",
       "  </thead>\n",
       "  <tbody>\n",
       "    <tr>\n",
       "      <th>0</th>\n",
       "      <td>1995</td>\n",
       "      <td>1273440</td>\n",
       "      <td>624737</td>\n",
       "      <td>648703</td>\n",
       "      <td>16751</td>\n",
       "      <td>7283</td>\n",
       "    </tr>\n",
       "    <tr>\n",
       "      <th>1</th>\n",
       "      <td>1996</td>\n",
       "      <td>1282000</td>\n",
       "      <td>629000</td>\n",
       "      <td>653000</td>\n",
       "      <td>17064</td>\n",
       "      <td>7038</td>\n",
       "    </tr>\n",
       "    <tr>\n",
       "      <th>2</th>\n",
       "      <td>1997</td>\n",
       "      <td>1289000</td>\n",
       "      <td>633000</td>\n",
       "      <td>657000</td>\n",
       "      <td>16614</td>\n",
       "      <td>7381</td>\n",
       "    </tr>\n",
       "    <tr>\n",
       "      <th>3</th>\n",
       "      <td>1998</td>\n",
       "      <td>1298000</td>\n",
       "      <td>637000</td>\n",
       "      <td>661000</td>\n",
       "      <td>16928</td>\n",
       "      <td>7643</td>\n",
       "    </tr>\n",
       "    <tr>\n",
       "      <th>4</th>\n",
       "      <td>1999</td>\n",
       "      <td>1308000</td>\n",
       "      <td>642000</td>\n",
       "      <td>665000</td>\n",
       "      <td>16680</td>\n",
       "      <td>7880</td>\n",
       "    </tr>\n",
       "    <tr>\n",
       "      <th>5</th>\n",
       "      <td>2000</td>\n",
       "      <td>1318220</td>\n",
       "      <td>647877</td>\n",
       "      <td>670343</td>\n",
       "      <td>16773</td>\n",
       "      <td>7946</td>\n",
       "    </tr>\n",
       "    <tr>\n",
       "      <th>6</th>\n",
       "      <td>2001</td>\n",
       "      <td>1327000</td>\n",
       "      <td>652000</td>\n",
       "      <td>675000</td>\n",
       "      <td>17169</td>\n",
       "      <td>8132</td>\n",
       "    </tr>\n",
       "    <tr>\n",
       "      <th>7</th>\n",
       "      <td>2002</td>\n",
       "      <td>1336000</td>\n",
       "      <td>657000</td>\n",
       "      <td>679000</td>\n",
       "      <td>16571</td>\n",
       "      <td>8037</td>\n",
       "    </tr>\n",
       "    <tr>\n",
       "      <th>8</th>\n",
       "      <td>2003</td>\n",
       "      <td>1345000</td>\n",
       "      <td>661000</td>\n",
       "      <td>684000</td>\n",
       "      <td>16303</td>\n",
       "      <td>8433</td>\n",
       "    </tr>\n",
       "    <tr>\n",
       "      <th>9</th>\n",
       "      <td>2004</td>\n",
       "      <td>1353000</td>\n",
       "      <td>665000</td>\n",
       "      <td>689000</td>\n",
       "      <td>16362</td>\n",
       "      <td>8610</td>\n",
       "    </tr>\n",
       "    <tr>\n",
       "      <th>10</th>\n",
       "      <td>2005</td>\n",
       "      <td>1361594</td>\n",
       "      <td>668502</td>\n",
       "      <td>693092</td>\n",
       "      <td>16115</td>\n",
       "      <td>9021</td>\n",
       "    </tr>\n",
       "    <tr>\n",
       "      <th>11</th>\n",
       "      <td>2006</td>\n",
       "      <td>1369000</td>\n",
       "      <td>672000</td>\n",
       "      <td>697000</td>\n",
       "      <td>16483</td>\n",
       "      <td>9121</td>\n",
       "    </tr>\n",
       "    <tr>\n",
       "      <th>12</th>\n",
       "      <td>2007</td>\n",
       "      <td>1374000</td>\n",
       "      <td>674000</td>\n",
       "      <td>700000</td>\n",
       "      <td>16588</td>\n",
       "      <td>9399</td>\n",
       "    </tr>\n",
       "    <tr>\n",
       "      <th>13</th>\n",
       "      <td>2008</td>\n",
       "      <td>1378000</td>\n",
       "      <td>675000</td>\n",
       "      <td>703000</td>\n",
       "      <td>16736</td>\n",
       "      <td>9492</td>\n",
       "    </tr>\n",
       "    <tr>\n",
       "      <th>14</th>\n",
       "      <td>2009</td>\n",
       "      <td>1385000</td>\n",
       "      <td>679000</td>\n",
       "      <td>706000</td>\n",
       "      <td>16744</td>\n",
       "      <td>9923</td>\n",
       "    </tr>\n",
       "    <tr>\n",
       "      <th>15</th>\n",
       "      <td>2010</td>\n",
       "      <td>1392818</td>\n",
       "      <td>683328</td>\n",
       "      <td>709490</td>\n",
       "      <td>17098</td>\n",
       "      <td>10156</td>\n",
       "    </tr>\n",
       "    <tr>\n",
       "      <th>16</th>\n",
       "      <td>2011</td>\n",
       "      <td>1402000</td>\n",
       "      <td>688000</td>\n",
       "      <td>714000</td>\n",
       "      <td>16918</td>\n",
       "      <td>10686</td>\n",
       "    </tr>\n",
       "    <tr>\n",
       "      <th>17</th>\n",
       "      <td>2012</td>\n",
       "      <td>1411000</td>\n",
       "      <td>693000</td>\n",
       "      <td>719000</td>\n",
       "      <td>17074</td>\n",
       "      <td>10626</td>\n",
       "    </tr>\n",
       "    <tr>\n",
       "      <th>18</th>\n",
       "      <td>2013</td>\n",
       "      <td>1419000</td>\n",
       "      <td>697000</td>\n",
       "      <td>722000</td>\n",
       "      <td>17209</td>\n",
       "      <td>10956</td>\n",
       "    </tr>\n",
       "    <tr>\n",
       "      <th>19</th>\n",
       "      <td>2014</td>\n",
       "      <td>1426000</td>\n",
       "      <td>700000</td>\n",
       "      <td>725000</td>\n",
       "      <td>16373</td>\n",
       "      <td>11361</td>\n",
       "    </tr>\n",
       "    <tr>\n",
       "      <th>20</th>\n",
       "      <td>2015</td>\n",
       "      <td>1433566</td>\n",
       "      <td>704619</td>\n",
       "      <td>728947</td>\n",
       "      <td>16941</td>\n",
       "      <td>11326</td>\n",
       "    </tr>\n",
       "    <tr>\n",
       "      <th>21</th>\n",
       "      <td>2016</td>\n",
       "      <td>1439000</td>\n",
       "      <td>708000</td>\n",
       "      <td>732000</td>\n",
       "      <td>16617</td>\n",
       "      <td>11706</td>\n",
       "    </tr>\n",
       "  </tbody>\n",
       "</table>\n",
       "</div>"
      ],
      "text/plain": [
       "    YEAR  TOTAL POP  MALE POP  FEMALE POP  BIRTHS  DEATHS\n",
       "0   1995    1273440    624737      648703   16751    7283\n",
       "1   1996    1282000    629000      653000   17064    7038\n",
       "2   1997    1289000    633000      657000   16614    7381\n",
       "3   1998    1298000    637000      661000   16928    7643\n",
       "4   1999    1308000    642000      665000   16680    7880\n",
       "5   2000    1318220    647877      670343   16773    7946\n",
       "6   2001    1327000    652000      675000   17169    8132\n",
       "7   2002    1336000    657000      679000   16571    8037\n",
       "8   2003    1345000    661000      684000   16303    8433\n",
       "9   2004    1353000    665000      689000   16362    8610\n",
       "10  2005    1361594    668502      693092   16115    9021\n",
       "11  2006    1369000    672000      697000   16483    9121\n",
       "12  2007    1374000    674000      700000   16588    9399\n",
       "13  2008    1378000    675000      703000   16736    9492\n",
       "14  2009    1385000    679000      706000   16744    9923\n",
       "15  2010    1392818    683328      709490   17098   10156\n",
       "16  2011    1402000    688000      714000   16918   10686\n",
       "17  2012    1411000    693000      719000   17074   10626\n",
       "18  2013    1419000    697000      722000   17209   10956\n",
       "19  2014    1426000    700000      725000   16373   11361\n",
       "20  2015    1433566    704619      728947   16941   11326\n",
       "21  2016    1439000    708000      732000   16617   11706"
      ]
     },
     "execution_count": 19,
     "metadata": {},
     "output_type": "execute_result"
    }
   ],
   "source": [
    "df"
   ]
  },
  {
   "cell_type": "markdown",
   "metadata": {},
   "source": [
    "Just going to run some graphs to see if there are any two variables with linear relationships. If there is, the linear regression model might be feasible."
   ]
  },
  {
   "cell_type": "code",
   "execution_count": 20,
   "metadata": {
    "scrolled": false
   },
   "outputs": [
    {
     "data": {
      "image/png": "[encoded data removed]",
      "text/plain": [
       "<Figure size 432x288 with 1 Axes>"
      ]
     },
     "metadata": {
      "needs_background": "light"
     },
     "output_type": "display_data"
    },
    {
     "data": {
      "image/png": "[encoded data removed]",
      "text/plain": [
       "<Figure size 432x288 with 1 Axes>"
      ]
     },
     "metadata": {
      "needs_background": "light"
     },
     "output_type": "display_data"
    },
    {
     "data": {
      "image/png": "[encoded data removed]",
      "text/plain": [
       "<Figure size 432x288 with 1 Axes>"
      ]
     },
     "metadata": {
      "needs_background": "light"
     },
     "output_type": "display_data"
    },
    {
     "data": {
      "image/png": "[encoded data removed]",
      "text/plain": [
       "<Figure size 432x288 with 1 Axes>"
      ]
     },
     "metadata": {
      "needs_background": "light"
     },
     "output_type": "display_data"
    }
   ],
   "source": [
    "plt.scatter(df['TOTAL POP'], df['BIRTHS'], color = 'green')\n",
    "plt.title('Pop vs Births', fontsize = 14)\n",
    "plt.xlabel('Population', fontsize = 12)\n",
    "plt.ylabel('Births', fontsize = 14)\n",
    "plt.grid(True)\n",
    "plt.show()\n",
    "\n",
    "plt.scatter(df['TOTAL POP'], df['DEATHS'], color = 'black')\n",
    "plt.title('Pop vs Deaths', fontsize = 14)\n",
    "plt.xlabel('Population', fontsize = 12)\n",
    "plt.ylabel('Deaths', fontsize = 14)\n",
    "plt.grid(True)\n",
    "plt.show()\n",
    "\n",
    "plt.scatter(df['MALE POP'], df['TOTAL POP'], color = 'blue')\n",
    "plt.title('Male POP vs Total POP', fontsize = 14)\n",
    "plt.xlabel('Male POP', fontsize = 14)\n",
    "plt.ylabel('Total POP', fontsize = 12)\n",
    "plt.grid(True)\n",
    "plt.show()\n",
    "\n",
    "plt.scatter(df['FEMALE POP'], df['TOTAL POP'], color = 'red')\n",
    "plt.title('Female POP vs Total POP', fontsize = 14)\n",
    "plt.xlabel('Female POP', fontsize = 14)\n",
    "plt.ylabel('Total POP', fontsize = 12)\n",
    "plt.grid(True)\n",
    "plt.show()"
   ]
  },
  {
   "cell_type": "markdown",
   "metadata": {},
   "source": [
    "So the Population vs Death seems like the best option to try a linear regression model. First, since we are only dealing with two variables, lets set one as X and one as y.\n",
    "\n",
    "The X variable will be the Attribute or Independent variable. These are what change the dependent variable.\n",
    "The y variable will be the Label or Dependent variable. This is the variable we will try to predict.\n",
    "\n",
    "Also, since sklear expects these to be in pandas dataframes and pandas series so we need to reshape them. Again, slicing to ensure we reshape to get all rows of the column inside a pandas set."
   ]
  },
  {
   "cell_type": "code",
   "execution_count": 21,
   "metadata": {},
   "outputs": [],
   "source": [
    "X = df['TOTAL POP'].values.reshape(-1, 1)\n",
    "y = df['DEATHS'].values.reshape(-1, 1)"
   ]
  },
  {
   "cell_type": "markdown",
   "metadata": {},
   "source": [
    "We can print them out just to see how they appear for the Sklearn library."
   ]
  },
  {
   "cell_type": "code",
   "execution_count": 22,
   "metadata": {},
   "outputs": [
    {
     "name": "stdout",
     "output_type": "stream",
     "text": [
      "[[1273440]\n",
      " [1282000]\n",
      " [1289000]\n",
      " [1298000]\n",
      " [1308000]\n",
      " [1318220]\n",
      " [1327000]\n",
      " [1336000]\n",
      " [1345000]\n",
      " [1353000]\n",
      " [1361594]\n",
      " [1369000]\n",
      " [1374000]\n",
      " [1378000]\n",
      " [1385000]\n",
      " [1392818]\n",
      " [1402000]\n",
      " [1411000]\n",
      " [1419000]\n",
      " [1426000]\n",
      " [1433566]\n",
      " [1439000]]\n"
     ]
    }
   ],
   "source": [
    "print(X)"
   ]
  },
  {
   "cell_type": "code",
   "execution_count": 23,
   "metadata": {},
   "outputs": [
    {
     "name": "stdout",
     "output_type": "stream",
     "text": [
      "[[ 7283]\n",
      " [ 7038]\n",
      " [ 7381]\n",
      " [ 7643]\n",
      " [ 7880]\n",
      " [ 7946]\n",
      " [ 8132]\n",
      " [ 8037]\n",
      " [ 8433]\n",
      " [ 8610]\n",
      " [ 9021]\n",
      " [ 9121]\n",
      " [ 9399]\n",
      " [ 9492]\n",
      " [ 9923]\n",
      " [10156]\n",
      " [10686]\n",
      " [10626]\n",
      " [10956]\n",
      " [11361]\n",
      " [11326]\n",
      " [11706]]\n"
     ]
    }
   ],
   "source": [
    "print(y)"
   ]
  },
  {
   "cell_type": "markdown",
   "metadata": {},
   "source": [
    "Now we split the data into a training set and test set. As you can see the labels are properly noted X_train and X_test followed by y respectively. The size is .2 to create a split of 80% training set and 20% test set. Random_state is only used as the seed for a random number generator. This is used by np.random. Does not apply to our model or case."
   ]
  },
  {
   "cell_type": "code",
   "execution_count": 24,
   "metadata": {},
   "outputs": [],
   "source": [
    "X_train, X_test, y_train, y_test = train_test_split(X, y, test_size = 0.2, random_state = 0)"
   ]
  },
  {
   "cell_type": "markdown",
   "metadata": {},
   "source": [
    "Naming the LinearRegression class as regressor for easy usage."
   ]
  },
  {
   "cell_type": "code",
   "execution_count": 25,
   "metadata": {},
   "outputs": [],
   "source": [
    "regressor = LinearRegression()"
   ]
  },
  {
   "cell_type": "markdown",
   "metadata": {},
   "source": [
    "Using LinearRegression class to train the algorithm."
   ]
  },
  {
   "cell_type": "code",
   "execution_count": 26,
   "metadata": {},
   "outputs": [
    {
     "data": {
      "text/plain": [
       "LinearRegression(copy_X=True, fit_intercept=True, n_jobs=None, normalize=False)"
      ]
     },
     "execution_count": 26,
     "metadata": {},
     "output_type": "execute_result"
    }
   ],
   "source": [
    "regressor.fit(X_train, y_train)"
   ]
  },
  {
   "cell_type": "markdown",
   "metadata": {},
   "source": [
    "Now that the algorithm is trained, we can extract the intercepts and coefficients."
   ]
  },
  {
   "cell_type": "code",
   "execution_count": 27,
   "metadata": {},
   "outputs": [
    {
     "name": "stdout",
     "output_type": "stream",
     "text": [
      "[-29279.3538973]\n"
     ]
    }
   ],
   "source": [
    "print(regressor.intercept_)"
   ]
  },
  {
   "cell_type": "code",
   "execution_count": 28,
   "metadata": {},
   "outputs": [
    {
     "name": "stdout",
     "output_type": "stream",
     "text": [
      "[[0.02829686]]\n"
     ]
    }
   ],
   "source": [
    "print(regressor.coef_) # for every one unit of change in Population, the change in Deaths is .02%."
   ]
  },
  {
   "cell_type": "markdown",
   "metadata": {},
   "source": [
    "Intercept is the y-intercept or B0 in the regression formula. It is the value of y if X is equal to 0. So in this case, if the Total Population is 0, we can expect our Deaths to be at -29,279. Of course this isn't very useful so in our case, it just sets the regression line properly.\n",
    "\n",
    "I know coefficients mean that for every change in X, y changes by that much percent. It is the independent's variable effect on the dependent variable. So here, for every unit change in population, the death rate is affected .02%. We can already see that this isn't going to be a good model.\n",
    "\n",
    "Moving on, lets make the prediction and set it to y_pred. Again, using the regression class renamed to regressor."
   ]
  },
  {
   "cell_type": "code",
   "execution_count": 29,
   "metadata": {},
   "outputs": [],
   "source": [
    "y_pred = regressor.predict(X_test)"
   ]
  },
  {
   "cell_type": "markdown",
   "metadata": {},
   "source": [
    "Now we'll make a new dataframe to compare the test to the prediction for the y variable, or in our case, Deaths."
   ]
  },
  {
   "cell_type": "code",
   "execution_count": 30,
   "metadata": {},
   "outputs": [
    {
     "data": {
      "text/html": [
       "<div>\n",
       "<style scoped>\n",
       "    .dataframe tbody tr th:only-of-type {\n",
       "        vertical-align: middle;\n",
       "    }\n",
       "\n",
       "    .dataframe tbody tr th {\n",
       "        vertical-align: top;\n",
       "    }\n",
       "\n",
       "    .dataframe thead th {\n",
       "        text-align: right;\n",
       "    }\n",
       "</style>\n",
       "<table border=\"1\" class=\"dataframe\">\n",
       "  <thead>\n",
       "    <tr style=\"text-align: right;\">\n",
       "      <th></th>\n",
       "      <th>Actual</th>\n",
       "      <th>Predicted</th>\n",
       "    </tr>\n",
       "  </thead>\n",
       "  <tbody>\n",
       "    <tr>\n",
       "      <th>0</th>\n",
       "      <td>11326</td>\n",
       "      <td>11286.060118</td>\n",
       "    </tr>\n",
       "    <tr>\n",
       "      <th>1</th>\n",
       "      <td>9021</td>\n",
       "      <td>9249.478630</td>\n",
       "    </tr>\n",
       "    <tr>\n",
       "      <th>2</th>\n",
       "      <td>9923</td>\n",
       "      <td>9911.794896</td>\n",
       "    </tr>\n",
       "    <tr>\n",
       "      <th>3</th>\n",
       "      <td>9492</td>\n",
       "      <td>9713.716887</td>\n",
       "    </tr>\n",
       "    <tr>\n",
       "      <th>4</th>\n",
       "      <td>7038</td>\n",
       "      <td>6997.218487</td>\n",
       "    </tr>\n",
       "  </tbody>\n",
       "</table>\n",
       "</div>"
      ],
      "text/plain": [
       "   Actual     Predicted\n",
       "0   11326  11286.060118\n",
       "1    9021   9249.478630\n",
       "2    9923   9911.794896\n",
       "3    9492   9713.716887\n",
       "4    7038   6997.218487"
      ]
     },
     "execution_count": 30,
     "metadata": {},
     "output_type": "execute_result"
    }
   ],
   "source": [
    "df_nu = pd.DataFrame({'Actual': y_test.flatten(), 'Predicted': y_pred.flatten()})\n",
    "df_nu"
   ]
  },
  {
   "cell_type": "markdown",
   "metadata": {},
   "source": [
    "As you can see, the predictions are pretty close in my opinion. Now lets plot this predition and also look at some metrics for the model."
   ]
  },
  {
   "cell_type": "code",
   "execution_count": 31,
   "metadata": {},
   "outputs": [
    {
     "data": {
      "image/png": "[encoded data removed]",
      "text/plain": [
       "<Figure size 432x288 with 1 Axes>"
      ]
     },
     "metadata": {
      "needs_background": "light"
     },
     "output_type": "display_data"
    }
   ],
   "source": [
    "plt.scatter(X_test, y_test,  color='gray')\n",
    "plt.plot(X_test, y_pred, color='red', linewidth=2)\n",
    "plt.show()"
   ]
  },
  {
   "cell_type": "code",
   "execution_count": 32,
   "metadata": {},
   "outputs": [
    {
     "name": "stdout",
     "output_type": "stream",
     "text": [
      "Mean Absolute Error: 108.42440326818033\n",
      "Mean Squared Error: 20948.948530943733\n",
      "Root Mean Squared Error: 144.73751597614122\n"
     ]
    }
   ],
   "source": [
    "print('Mean Absolute Error:', metrics.mean_absolute_error(y_test, y_pred))  \n",
    "print('Mean Squared Error:', metrics.mean_squared_error(y_test, y_pred))  \n",
    "print('Root Mean Squared Error:', np.sqrt(metrics.mean_squared_error(y_test, y_pred)))"
   ]
  },
  {
   "cell_type": "markdown",
   "metadata": {},
   "source": [
    "The MAE just represents the average error.\n",
    "\n",
    "The MSE is just like MAE except there is more emphasis on exaggerating large errors.\n",
    "\n",
    "The RMSE is like MSE except square rooted to make it easier to under."
   ]
  },
  {
   "cell_type": "markdown",
   "metadata": {},
   "source": [
    "I learned a lot here. My next project will be to find a better dataset to create a better linear regression model or even, a multile linear regression model. I believe population metrics isn't suited well for linear regression with the data I was able to find (ie. deaths & births). Also, Okinawa was only about to provide good data for the past 20 plus years. I might return to this data in the future once I'm more experienced to see if I can extract any other useful models or information.\n",
    "\n",
    "March 6, 2019, 1249"
   ]
  },
  {
   "cell_type": "markdown",
   "metadata": {},
   "source": [
    "Trying out fbprophet on this data.\n",
    "\n",
    "June 6, 2019, 1343"
   ]
  },
  {
   "cell_type": "code",
   "execution_count": 33,
   "metadata": {},
   "outputs": [],
   "source": [
    "from fbprophet import Prophet"
   ]
  },
  {
   "cell_type": "code",
   "execution_count": 34,
   "metadata": {},
   "outputs": [],
   "source": [
    "m = Prophet()"
   ]
  },
  {
   "cell_type": "code",
   "execution_count": 35,
   "metadata": {},
   "outputs": [
    {
     "data": {
      "text/html": [
       "<div>\n",
       "<style scoped>\n",
       "    .dataframe tbody tr th:only-of-type {\n",
       "        vertical-align: middle;\n",
       "    }\n",
       "\n",
       "    .dataframe tbody tr th {\n",
       "        vertical-align: top;\n",
       "    }\n",
       "\n",
       "    .dataframe thead th {\n",
       "        text-align: right;\n",
       "    }\n",
       "</style>\n",
       "<table border=\"1\" class=\"dataframe\">\n",
       "  <thead>\n",
       "    <tr style=\"text-align: right;\">\n",
       "      <th></th>\n",
       "      <th>YEAR</th>\n",
       "      <th>TOTAL POP</th>\n",
       "      <th>MALE POP</th>\n",
       "      <th>FEMALE POP</th>\n",
       "      <th>BIRTHS</th>\n",
       "      <th>DEATHS</th>\n",
       "    </tr>\n",
       "  </thead>\n",
       "  <tbody>\n",
       "    <tr>\n",
       "      <th>0</th>\n",
       "      <td>1995</td>\n",
       "      <td>1273440</td>\n",
       "      <td>624737</td>\n",
       "      <td>648703</td>\n",
       "      <td>16751</td>\n",
       "      <td>7283</td>\n",
       "    </tr>\n",
       "    <tr>\n",
       "      <th>1</th>\n",
       "      <td>1996</td>\n",
       "      <td>1282000</td>\n",
       "      <td>629000</td>\n",
       "      <td>653000</td>\n",
       "      <td>17064</td>\n",
       "      <td>7038</td>\n",
       "    </tr>\n",
       "    <tr>\n",
       "      <th>2</th>\n",
       "      <td>1997</td>\n",
       "      <td>1289000</td>\n",
       "      <td>633000</td>\n",
       "      <td>657000</td>\n",
       "      <td>16614</td>\n",
       "      <td>7381</td>\n",
       "    </tr>\n",
       "    <tr>\n",
       "      <th>3</th>\n",
       "      <td>1998</td>\n",
       "      <td>1298000</td>\n",
       "      <td>637000</td>\n",
       "      <td>661000</td>\n",
       "      <td>16928</td>\n",
       "      <td>7643</td>\n",
       "    </tr>\n",
       "    <tr>\n",
       "      <th>4</th>\n",
       "      <td>1999</td>\n",
       "      <td>1308000</td>\n",
       "      <td>642000</td>\n",
       "      <td>665000</td>\n",
       "      <td>16680</td>\n",
       "      <td>7880</td>\n",
       "    </tr>\n",
       "  </tbody>\n",
       "</table>\n",
       "</div>"
      ],
      "text/plain": [
       "   YEAR  TOTAL POP  MALE POP  FEMALE POP  BIRTHS  DEATHS\n",
       "0  1995    1273440    624737      648703   16751    7283\n",
       "1  1996    1282000    629000      653000   17064    7038\n",
       "2  1997    1289000    633000      657000   16614    7381\n",
       "3  1998    1298000    637000      661000   16928    7643\n",
       "4  1999    1308000    642000      665000   16680    7880"
      ]
     },
     "execution_count": 35,
     "metadata": {},
     "output_type": "execute_result"
    }
   ],
   "source": [
    "df.head()"
   ]
  },
  {
   "cell_type": "code",
   "execution_count": 36,
   "metadata": {},
   "outputs": [],
   "source": [
    "nudf = df[['YEAR', 'TOTAL POP']].copy()"
   ]
  },
  {
   "cell_type": "code",
   "execution_count": 37,
   "metadata": {},
   "outputs": [
    {
     "name": "stdout",
     "output_type": "stream",
     "text": [
      "<class 'pandas.core.frame.DataFrame'>\n",
      "RangeIndex: 22 entries, 0 to 21\n",
      "Data columns (total 2 columns):\n",
      "YEAR         22 non-null int64\n",
      "TOTAL POP    22 non-null int64\n",
      "dtypes: int64(2)\n",
      "memory usage: 432.0 bytes\n"
     ]
    }
   ],
   "source": [
    "nudf.info()"
   ]
  },
  {
   "cell_type": "code",
   "execution_count": 38,
   "metadata": {},
   "outputs": [],
   "source": [
    "nudf['DS'] = pd.to_datetime(nudf['YEAR'], format='%Y')"
   ]
  },
  {
   "cell_type": "code",
   "execution_count": 39,
   "metadata": {},
   "outputs": [
    {
     "data": {
      "text/html": [
       "<div>\n",
       "<style scoped>\n",
       "    .dataframe tbody tr th:only-of-type {\n",
       "        vertical-align: middle;\n",
       "    }\n",
       "\n",
       "    .dataframe tbody tr th {\n",
       "        vertical-align: top;\n",
       "    }\n",
       "\n",
       "    .dataframe thead th {\n",
       "        text-align: right;\n",
       "    }\n",
       "</style>\n",
       "<table border=\"1\" class=\"dataframe\">\n",
       "  <thead>\n",
       "    <tr style=\"text-align: right;\">\n",
       "      <th></th>\n",
       "      <th>YEAR</th>\n",
       "      <th>TOTAL POP</th>\n",
       "      <th>DS</th>\n",
       "    </tr>\n",
       "  </thead>\n",
       "  <tbody>\n",
       "    <tr>\n",
       "      <th>0</th>\n",
       "      <td>1995</td>\n",
       "      <td>1273440</td>\n",
       "      <td>1995-01-01</td>\n",
       "    </tr>\n",
       "    <tr>\n",
       "      <th>1</th>\n",
       "      <td>1996</td>\n",
       "      <td>1282000</td>\n",
       "      <td>1996-01-01</td>\n",
       "    </tr>\n",
       "    <tr>\n",
       "      <th>2</th>\n",
       "      <td>1997</td>\n",
       "      <td>1289000</td>\n",
       "      <td>1997-01-01</td>\n",
       "    </tr>\n",
       "    <tr>\n",
       "      <th>3</th>\n",
       "      <td>1998</td>\n",
       "      <td>1298000</td>\n",
       "      <td>1998-01-01</td>\n",
       "    </tr>\n",
       "    <tr>\n",
       "      <th>4</th>\n",
       "      <td>1999</td>\n",
       "      <td>1308000</td>\n",
       "      <td>1999-01-01</td>\n",
       "    </tr>\n",
       "  </tbody>\n",
       "</table>\n",
       "</div>"
      ],
      "text/plain": [
       "   YEAR  TOTAL POP         DS\n",
       "0  1995    1273440 1995-01-01\n",
       "1  1996    1282000 1996-01-01\n",
       "2  1997    1289000 1997-01-01\n",
       "3  1998    1298000 1998-01-01\n",
       "4  1999    1308000 1999-01-01"
      ]
     },
     "execution_count": 39,
     "metadata": {},
     "output_type": "execute_result"
    }
   ],
   "source": [
    "nudf.head()"
   ]
  },
  {
   "cell_type": "code",
   "execution_count": 40,
   "metadata": {
    "scrolled": false
   },
   "outputs": [
    {
     "data": {
      "text/html": [
       "<div>\n",
       "<style scoped>\n",
       "    .dataframe tbody tr th:only-of-type {\n",
       "        vertical-align: middle;\n",
       "    }\n",
       "\n",
       "    .dataframe tbody tr th {\n",
       "        vertical-align: top;\n",
       "    }\n",
       "\n",
       "    .dataframe thead th {\n",
       "        text-align: right;\n",
       "    }\n",
       "</style>\n",
       "<table border=\"1\" class=\"dataframe\">\n",
       "  <thead>\n",
       "    <tr style=\"text-align: right;\">\n",
       "      <th></th>\n",
       "      <th>TOTAL POP</th>\n",
       "      <th>DS</th>\n",
       "    </tr>\n",
       "  </thead>\n",
       "  <tbody>\n",
       "    <tr>\n",
       "      <th>0</th>\n",
       "      <td>1273440</td>\n",
       "      <td>1995-01-01</td>\n",
       "    </tr>\n",
       "    <tr>\n",
       "      <th>1</th>\n",
       "      <td>1282000</td>\n",
       "      <td>1996-01-01</td>\n",
       "    </tr>\n",
       "    <tr>\n",
       "      <th>2</th>\n",
       "      <td>1289000</td>\n",
       "      <td>1997-01-01</td>\n",
       "    </tr>\n",
       "    <tr>\n",
       "      <th>3</th>\n",
       "      <td>1298000</td>\n",
       "      <td>1998-01-01</td>\n",
       "    </tr>\n",
       "    <tr>\n",
       "      <th>4</th>\n",
       "      <td>1308000</td>\n",
       "      <td>1999-01-01</td>\n",
       "    </tr>\n",
       "    <tr>\n",
       "      <th>5</th>\n",
       "      <td>1318220</td>\n",
       "      <td>2000-01-01</td>\n",
       "    </tr>\n",
       "    <tr>\n",
       "      <th>6</th>\n",
       "      <td>1327000</td>\n",
       "      <td>2001-01-01</td>\n",
       "    </tr>\n",
       "    <tr>\n",
       "      <th>7</th>\n",
       "      <td>1336000</td>\n",
       "      <td>2002-01-01</td>\n",
       "    </tr>\n",
       "    <tr>\n",
       "      <th>8</th>\n",
       "      <td>1345000</td>\n",
       "      <td>2003-01-01</td>\n",
       "    </tr>\n",
       "    <tr>\n",
       "      <th>9</th>\n",
       "      <td>1353000</td>\n",
       "      <td>2004-01-01</td>\n",
       "    </tr>\n",
       "    <tr>\n",
       "      <th>10</th>\n",
       "      <td>1361594</td>\n",
       "      <td>2005-01-01</td>\n",
       "    </tr>\n",
       "    <tr>\n",
       "      <th>11</th>\n",
       "      <td>1369000</td>\n",
       "      <td>2006-01-01</td>\n",
       "    </tr>\n",
       "    <tr>\n",
       "      <th>12</th>\n",
       "      <td>1374000</td>\n",
       "      <td>2007-01-01</td>\n",
       "    </tr>\n",
       "    <tr>\n",
       "      <th>13</th>\n",
       "      <td>1378000</td>\n",
       "      <td>2008-01-01</td>\n",
       "    </tr>\n",
       "    <tr>\n",
       "      <th>14</th>\n",
       "      <td>1385000</td>\n",
       "      <td>2009-01-01</td>\n",
       "    </tr>\n",
       "    <tr>\n",
       "      <th>15</th>\n",
       "      <td>1392818</td>\n",
       "      <td>2010-01-01</td>\n",
       "    </tr>\n",
       "    <tr>\n",
       "      <th>16</th>\n",
       "      <td>1402000</td>\n",
       "      <td>2011-01-01</td>\n",
       "    </tr>\n",
       "    <tr>\n",
       "      <th>17</th>\n",
       "      <td>1411000</td>\n",
       "      <td>2012-01-01</td>\n",
       "    </tr>\n",
       "    <tr>\n",
       "      <th>18</th>\n",
       "      <td>1419000</td>\n",
       "      <td>2013-01-01</td>\n",
       "    </tr>\n",
       "    <tr>\n",
       "      <th>19</th>\n",
       "      <td>1426000</td>\n",
       "      <td>2014-01-01</td>\n",
       "    </tr>\n",
       "    <tr>\n",
       "      <th>20</th>\n",
       "      <td>1433566</td>\n",
       "      <td>2015-01-01</td>\n",
       "    </tr>\n",
       "    <tr>\n",
       "      <th>21</th>\n",
       "      <td>1439000</td>\n",
       "      <td>2016-01-01</td>\n",
       "    </tr>\n",
       "  </tbody>\n",
       "</table>\n",
       "</div>"
      ],
      "text/plain": [
       "    TOTAL POP         DS\n",
       "0     1273440 1995-01-01\n",
       "1     1282000 1996-01-01\n",
       "2     1289000 1997-01-01\n",
       "3     1298000 1998-01-01\n",
       "4     1308000 1999-01-01\n",
       "5     1318220 2000-01-01\n",
       "6     1327000 2001-01-01\n",
       "7     1336000 2002-01-01\n",
       "8     1345000 2003-01-01\n",
       "9     1353000 2004-01-01\n",
       "10    1361594 2005-01-01\n",
       "11    1369000 2006-01-01\n",
       "12    1374000 2007-01-01\n",
       "13    1378000 2008-01-01\n",
       "14    1385000 2009-01-01\n",
       "15    1392818 2010-01-01\n",
       "16    1402000 2011-01-01\n",
       "17    1411000 2012-01-01\n",
       "18    1419000 2013-01-01\n",
       "19    1426000 2014-01-01\n",
       "20    1433566 2015-01-01\n",
       "21    1439000 2016-01-01"
      ]
     },
     "execution_count": 40,
     "metadata": {},
     "output_type": "execute_result"
    }
   ],
   "source": [
    "nudf.drop(columns=['YEAR'])"
   ]
  },
  {
   "cell_type": "code",
   "execution_count": 41,
   "metadata": {
    "scrolled": true
   },
   "outputs": [],
   "source": [
    "nudf = nudf[['DS', 'TOTAL POP']]"
   ]
  },
  {
   "cell_type": "code",
   "execution_count": 42,
   "metadata": {},
   "outputs": [],
   "source": [
    "nudf = nudf.rename(columns={'DS' : 'ds', 'TOTAL POP' : 'y'})"
   ]
  },
  {
   "cell_type": "code",
   "execution_count": 43,
   "metadata": {},
   "outputs": [],
   "source": [
    "nudf['cap'] = 1800000"
   ]
  },
  {
   "cell_type": "code",
   "execution_count": 44,
   "metadata": {},
   "outputs": [
    {
     "name": "stderr",
     "output_type": "stream",
     "text": [
      "INFO:fbprophet:Disabling weekly seasonality. Run prophet with weekly_seasonality=True to override this.\n",
      "INFO:fbprophet:Disabling daily seasonality. Run prophet with daily_seasonality=True to override this.\n",
      "INFO:fbprophet:n_changepoints greater than number of observations.Using 16.\n"
     ]
    }
   ],
   "source": [
    "m = Prophet(growth='logistic').fit(nudf)"
   ]
  },
  {
   "cell_type": "code",
   "execution_count": 45,
   "metadata": {},
   "outputs": [],
   "source": [
    "future = m.make_future_dataframe(periods=25, freq='Y')"
   ]
  },
  {
   "cell_type": "code",
   "execution_count": 46,
   "metadata": {},
   "outputs": [],
   "source": [
    "future['cap'] = 1800000"
   ]
  },
  {
   "cell_type": "code",
   "execution_count": 47,
   "metadata": {},
   "outputs": [],
   "source": [
    "fcst = m.predict(future)"
   ]
  },
  {
   "cell_type": "code",
   "execution_count": 48,
   "metadata": {},
   "outputs": [
    {
     "data": {
      "image/png": "[encoded data removed]",
      "text/plain": [
       "<Figure size 720x432 with 1 Axes>"
      ]
     },
     "metadata": {},
     "output_type": "display_data"
    }
   ],
   "source": [
    "fig = m.plot(fcst)"
   ]
  },
  {
   "cell_type": "code",
   "execution_count": null,
   "metadata": {},
   "outputs": [],
   "source": []
  }
 ],
 "metadata": {
  "kernelspec": {
   "display_name": "Python 3",
   "language": "python",
   "name": "python3"
  },
  "language_info": {
   "codemirror_mode": {
    "name": "ipython",
    "version": 3
   },
   "file_extension": ".py",
   "mimetype": "text/x-python",
   "name": "python",
   "nbconvert_exporter": "python",
   "pygments_lexer": "ipython3",
   "version": "3.7.3"
  }
 },
 "nbformat": 4,
 "nbformat_minor": 2
}
