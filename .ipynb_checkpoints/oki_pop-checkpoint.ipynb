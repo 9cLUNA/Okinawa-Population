{
 "cells": [
  {
   "cell_type": "markdown",
   "metadata": {},
   "source": [
    "Importing pandas, numpy, matplotlib and sklearn."
   ]
  },
  {
   "cell_type": "code",
   "execution_count": 28,
   "metadata": {},
   "outputs": [],
   "source": [
    "import pandas as pd\n",
    "import numpy as np\n",
    "import matplotlib.pyplot as plt\n",
    "from sklearn.model_selection import train_test_split\n",
    "from sklearn.linear_model import LinearRegression\n",
    "%matplotlib inline"
   ]
  },
  {
   "cell_type": "markdown",
   "metadata": {},
   "source": [
    "The csv file contains some miscellaneous information as the first 8 rows. We use skiprows to avoid any read errors."
   ]
  },
  {
   "cell_type": "code",
   "execution_count": 2,
   "metadata": {},
   "outputs": [],
   "source": [
    "df = pd.read_csv('data/FEI_PREF_190228112345.csv', skiprows=8)"
   ]
  },
  {
   "cell_type": "markdown",
   "metadata": {},
   "source": [
    "Lets take a look at what our data looks like using pandas head() to see the top 5 rows & tail() to see the last 5 rows; two important commands to run to get a good look at your dataframe."
   ]
  },
  {
   "cell_type": "code",
   "execution_count": 3,
   "metadata": {},
   "outputs": [
    {
     "data": {
      "text/html": [
       "<div>\n",
       "<style scoped>\n",
       "    .dataframe tbody tr th:only-of-type {\n",
       "        vertical-align: middle;\n",
       "    }\n",
       "\n",
       "    .dataframe tbody tr th {\n",
       "        vertical-align: top;\n",
       "    }\n",
       "\n",
       "    .dataframe thead th {\n",
       "        text-align: right;\n",
       "    }\n",
       "</style>\n",
       "<table border=\"1\" class=\"dataframe\">\n",
       "  <thead>\n",
       "    <tr style=\"text-align: right;\">\n",
       "      <th></th>\n",
       "      <th>AREA Code</th>\n",
       "      <th>AREA</th>\n",
       "      <th>YEAR Code</th>\n",
       "      <th>YEAR</th>\n",
       "      <th>/ITEMS</th>\n",
       "      <th>A1101_Total population (Both sexes)[person]</th>\n",
       "      <th>Annotation</th>\n",
       "      <th>A110101_Total population (Male)[person]</th>\n",
       "      <th>Annotation.1</th>\n",
       "      <th>A110102_Total population (Female)[person]</th>\n",
       "      <th>Annotation.2</th>\n",
       "    </tr>\n",
       "  </thead>\n",
       "  <tbody>\n",
       "    <tr>\n",
       "      <th>0</th>\n",
       "      <td>47000</td>\n",
       "      <td>Okinawa-ken</td>\n",
       "      <td>2016100000</td>\n",
       "      <td>2016</td>\n",
       "      <td>NaN</td>\n",
       "      <td>1439000</td>\n",
       "      <td>NaN</td>\n",
       "      <td>708000</td>\n",
       "      <td>NaN</td>\n",
       "      <td>732000</td>\n",
       "      <td>NaN</td>\n",
       "    </tr>\n",
       "    <tr>\n",
       "      <th>1</th>\n",
       "      <td>47000</td>\n",
       "      <td>Okinawa-ken</td>\n",
       "      <td>2015100000</td>\n",
       "      <td>2015</td>\n",
       "      <td>NaN</td>\n",
       "      <td>1433566</td>\n",
       "      <td>NaN</td>\n",
       "      <td>704619</td>\n",
       "      <td>NaN</td>\n",
       "      <td>728947</td>\n",
       "      <td>NaN</td>\n",
       "    </tr>\n",
       "    <tr>\n",
       "      <th>2</th>\n",
       "      <td>47000</td>\n",
       "      <td>Okinawa-ken</td>\n",
       "      <td>2014100000</td>\n",
       "      <td>2014</td>\n",
       "      <td>NaN</td>\n",
       "      <td>1426000</td>\n",
       "      <td>NaN</td>\n",
       "      <td>700000</td>\n",
       "      <td>NaN</td>\n",
       "      <td>725000</td>\n",
       "      <td>NaN</td>\n",
       "    </tr>\n",
       "    <tr>\n",
       "      <th>3</th>\n",
       "      <td>47000</td>\n",
       "      <td>Okinawa-ken</td>\n",
       "      <td>2013100000</td>\n",
       "      <td>2013</td>\n",
       "      <td>NaN</td>\n",
       "      <td>1419000</td>\n",
       "      <td>NaN</td>\n",
       "      <td>697000</td>\n",
       "      <td>NaN</td>\n",
       "      <td>722000</td>\n",
       "      <td>NaN</td>\n",
       "    </tr>\n",
       "    <tr>\n",
       "      <th>4</th>\n",
       "      <td>47000</td>\n",
       "      <td>Okinawa-ken</td>\n",
       "      <td>2012100000</td>\n",
       "      <td>2012</td>\n",
       "      <td>NaN</td>\n",
       "      <td>1411000</td>\n",
       "      <td>NaN</td>\n",
       "      <td>693000</td>\n",
       "      <td>NaN</td>\n",
       "      <td>719000</td>\n",
       "      <td>NaN</td>\n",
       "    </tr>\n",
       "  </tbody>\n",
       "</table>\n",
       "</div>"
      ],
      "text/plain": [
       "   AREA Code         AREA   YEAR Code  YEAR  /ITEMS  \\\n",
       "0      47000  Okinawa-ken  2016100000  2016     NaN   \n",
       "1      47000  Okinawa-ken  2015100000  2015     NaN   \n",
       "2      47000  Okinawa-ken  2014100000  2014     NaN   \n",
       "3      47000  Okinawa-ken  2013100000  2013     NaN   \n",
       "4      47000  Okinawa-ken  2012100000  2012     NaN   \n",
       "\n",
       "   A1101_Total population (Both sexes)[person]  Annotation  \\\n",
       "0                                      1439000         NaN   \n",
       "1                                      1433566         NaN   \n",
       "2                                      1426000         NaN   \n",
       "3                                      1419000         NaN   \n",
       "4                                      1411000         NaN   \n",
       "\n",
       "   A110101_Total population (Male)[person]  Annotation.1  \\\n",
       "0                                   708000           NaN   \n",
       "1                                   704619           NaN   \n",
       "2                                   700000           NaN   \n",
       "3                                   697000           NaN   \n",
       "4                                   693000           NaN   \n",
       "\n",
       "   A110102_Total population (Female)[person]  Annotation.2  \n",
       "0                                     732000           NaN  \n",
       "1                                     728947           NaN  \n",
       "2                                     725000           NaN  \n",
       "3                                     722000           NaN  \n",
       "4                                     719000           NaN  "
      ]
     },
     "execution_count": 3,
     "metadata": {},
     "output_type": "execute_result"
    }
   ],
   "source": [
    "df.head()"
   ]
  },
  {
   "cell_type": "code",
   "execution_count": 4,
   "metadata": {},
   "outputs": [
    {
     "data": {
      "text/html": [
       "<div>\n",
       "<style scoped>\n",
       "    .dataframe tbody tr th:only-of-type {\n",
       "        vertical-align: middle;\n",
       "    }\n",
       "\n",
       "    .dataframe tbody tr th {\n",
       "        vertical-align: top;\n",
       "    }\n",
       "\n",
       "    .dataframe thead th {\n",
       "        text-align: right;\n",
       "    }\n",
       "</style>\n",
       "<table border=\"1\" class=\"dataframe\">\n",
       "  <thead>\n",
       "    <tr style=\"text-align: right;\">\n",
       "      <th></th>\n",
       "      <th>AREA Code</th>\n",
       "      <th>AREA</th>\n",
       "      <th>YEAR Code</th>\n",
       "      <th>YEAR</th>\n",
       "      <th>/ITEMS</th>\n",
       "      <th>A1101_Total population (Both sexes)[person]</th>\n",
       "      <th>Annotation</th>\n",
       "      <th>A110101_Total population (Male)[person]</th>\n",
       "      <th>Annotation.1</th>\n",
       "      <th>A110102_Total population (Female)[person]</th>\n",
       "      <th>Annotation.2</th>\n",
       "    </tr>\n",
       "  </thead>\n",
       "  <tbody>\n",
       "    <tr>\n",
       "      <th>37</th>\n",
       "      <td>47000</td>\n",
       "      <td>Okinawa-ken</td>\n",
       "      <td>1979100000</td>\n",
       "      <td>1979</td>\n",
       "      <td>NaN</td>\n",
       "      <td>1094000</td>\n",
       "      <td>NaN</td>\n",
       "      <td>537000</td>\n",
       "      <td>NaN</td>\n",
       "      <td>556000</td>\n",
       "      <td>NaN</td>\n",
       "    </tr>\n",
       "    <tr>\n",
       "      <th>38</th>\n",
       "      <td>47000</td>\n",
       "      <td>Okinawa-ken</td>\n",
       "      <td>1978100000</td>\n",
       "      <td>1978</td>\n",
       "      <td>NaN</td>\n",
       "      <td>1081000</td>\n",
       "      <td>NaN</td>\n",
       "      <td>530000</td>\n",
       "      <td>NaN</td>\n",
       "      <td>551000</td>\n",
       "      <td>NaN</td>\n",
       "    </tr>\n",
       "    <tr>\n",
       "      <th>39</th>\n",
       "      <td>47000</td>\n",
       "      <td>Okinawa-ken</td>\n",
       "      <td>1977100000</td>\n",
       "      <td>1977</td>\n",
       "      <td>NaN</td>\n",
       "      <td>1071000</td>\n",
       "      <td>NaN</td>\n",
       "      <td>526000</td>\n",
       "      <td>NaN</td>\n",
       "      <td>545000</td>\n",
       "      <td>NaN</td>\n",
       "    </tr>\n",
       "    <tr>\n",
       "      <th>40</th>\n",
       "      <td>47000</td>\n",
       "      <td>Okinawa-ken</td>\n",
       "      <td>1976100000</td>\n",
       "      <td>1976</td>\n",
       "      <td>NaN</td>\n",
       "      <td>1058000</td>\n",
       "      <td>NaN</td>\n",
       "      <td>519000</td>\n",
       "      <td>NaN</td>\n",
       "      <td>539000</td>\n",
       "      <td>NaN</td>\n",
       "    </tr>\n",
       "    <tr>\n",
       "      <th>41</th>\n",
       "      <td>47000</td>\n",
       "      <td>Okinawa-ken</td>\n",
       "      <td>1975100000</td>\n",
       "      <td>1975</td>\n",
       "      <td>NaN</td>\n",
       "      <td>1042572</td>\n",
       "      <td>NaN</td>\n",
       "      <td>510754</td>\n",
       "      <td>NaN</td>\n",
       "      <td>531818</td>\n",
       "      <td>NaN</td>\n",
       "    </tr>\n",
       "  </tbody>\n",
       "</table>\n",
       "</div>"
      ],
      "text/plain": [
       "    AREA Code         AREA   YEAR Code  YEAR  /ITEMS  \\\n",
       "37      47000  Okinawa-ken  1979100000  1979     NaN   \n",
       "38      47000  Okinawa-ken  1978100000  1978     NaN   \n",
       "39      47000  Okinawa-ken  1977100000  1977     NaN   \n",
       "40      47000  Okinawa-ken  1976100000  1976     NaN   \n",
       "41      47000  Okinawa-ken  1975100000  1975     NaN   \n",
       "\n",
       "    A1101_Total population (Both sexes)[person]  Annotation  \\\n",
       "37                                      1094000         NaN   \n",
       "38                                      1081000         NaN   \n",
       "39                                      1071000         NaN   \n",
       "40                                      1058000         NaN   \n",
       "41                                      1042572         NaN   \n",
       "\n",
       "    A110101_Total population (Male)[person]  Annotation.1  \\\n",
       "37                                   537000           NaN   \n",
       "38                                   530000           NaN   \n",
       "39                                   526000           NaN   \n",
       "40                                   519000           NaN   \n",
       "41                                   510754           NaN   \n",
       "\n",
       "    A110102_Total population (Female)[person]  Annotation.2  \n",
       "37                                     556000           NaN  \n",
       "38                                     551000           NaN  \n",
       "39                                     545000           NaN  \n",
       "40                                     539000           NaN  \n",
       "41                                     531818           NaN  "
      ]
     },
     "execution_count": 4,
     "metadata": {},
     "output_type": "execute_result"
    }
   ],
   "source": [
    "df.tail()"
   ]
  },
  {
   "cell_type": "markdown",
   "metadata": {},
   "source": [
    "Now lets look at the kind of info inside the dataframe."
   ]
  },
  {
   "cell_type": "code",
   "execution_count": 5,
   "metadata": {},
   "outputs": [
    {
     "name": "stdout",
     "output_type": "stream",
     "text": [
      "<class 'pandas.core.frame.DataFrame'>\n",
      "RangeIndex: 42 entries, 0 to 41\n",
      "Data columns (total 11 columns):\n",
      "AREA Code                                      42 non-null int64\n",
      "AREA                                           42 non-null object\n",
      "YEAR Code                                      42 non-null int64\n",
      "YEAR                                           42 non-null int64\n",
      "/ITEMS                                         0 non-null float64\n",
      "A1101_Total population (Both sexes)[person]    42 non-null int64\n",
      "Annotation                                     0 non-null float64\n",
      "A110101_Total population (Male)[person]        42 non-null int64\n",
      "Annotation.1                                   0 non-null float64\n",
      "A110102_Total population (Female)[person]      42 non-null int64\n",
      "Annotation.2                                   0 non-null float64\n",
      "dtypes: float64(4), int64(6), object(1)\n",
      "memory usage: 3.7+ KB\n"
     ]
    }
   ],
   "source": [
    "df.info()"
   ]
  },
  {
   "cell_type": "markdown",
   "metadata": {},
   "source": [
    "There is a lot of columns that aren't required for our analysis. We can drop those from the dataframe. I went simple with just the single dropna command to find any columns with NaN values."
   ]
  },
  {
   "cell_type": "code",
   "execution_count": 6,
   "metadata": {},
   "outputs": [],
   "source": [
    "df = df.dropna(axis = 'columns')"
   ]
  },
  {
   "cell_type": "markdown",
   "metadata": {},
   "source": [
    "Lets see what it looks like now."
   ]
  },
  {
   "cell_type": "code",
   "execution_count": 7,
   "metadata": {
    "scrolled": true
   },
   "outputs": [
    {
     "data": {
      "text/html": [
       "<div>\n",
       "<style scoped>\n",
       "    .dataframe tbody tr th:only-of-type {\n",
       "        vertical-align: middle;\n",
       "    }\n",
       "\n",
       "    .dataframe tbody tr th {\n",
       "        vertical-align: top;\n",
       "    }\n",
       "\n",
       "    .dataframe thead th {\n",
       "        text-align: right;\n",
       "    }\n",
       "</style>\n",
       "<table border=\"1\" class=\"dataframe\">\n",
       "  <thead>\n",
       "    <tr style=\"text-align: right;\">\n",
       "      <th></th>\n",
       "      <th>AREA Code</th>\n",
       "      <th>AREA</th>\n",
       "      <th>YEAR Code</th>\n",
       "      <th>YEAR</th>\n",
       "      <th>A1101_Total population (Both sexes)[person]</th>\n",
       "      <th>A110101_Total population (Male)[person]</th>\n",
       "      <th>A110102_Total population (Female)[person]</th>\n",
       "    </tr>\n",
       "  </thead>\n",
       "  <tbody>\n",
       "    <tr>\n",
       "      <th>0</th>\n",
       "      <td>47000</td>\n",
       "      <td>Okinawa-ken</td>\n",
       "      <td>2016100000</td>\n",
       "      <td>2016</td>\n",
       "      <td>1439000</td>\n",
       "      <td>708000</td>\n",
       "      <td>732000</td>\n",
       "    </tr>\n",
       "    <tr>\n",
       "      <th>1</th>\n",
       "      <td>47000</td>\n",
       "      <td>Okinawa-ken</td>\n",
       "      <td>2015100000</td>\n",
       "      <td>2015</td>\n",
       "      <td>1433566</td>\n",
       "      <td>704619</td>\n",
       "      <td>728947</td>\n",
       "    </tr>\n",
       "    <tr>\n",
       "      <th>2</th>\n",
       "      <td>47000</td>\n",
       "      <td>Okinawa-ken</td>\n",
       "      <td>2014100000</td>\n",
       "      <td>2014</td>\n",
       "      <td>1426000</td>\n",
       "      <td>700000</td>\n",
       "      <td>725000</td>\n",
       "    </tr>\n",
       "    <tr>\n",
       "      <th>3</th>\n",
       "      <td>47000</td>\n",
       "      <td>Okinawa-ken</td>\n",
       "      <td>2013100000</td>\n",
       "      <td>2013</td>\n",
       "      <td>1419000</td>\n",
       "      <td>697000</td>\n",
       "      <td>722000</td>\n",
       "    </tr>\n",
       "    <tr>\n",
       "      <th>4</th>\n",
       "      <td>47000</td>\n",
       "      <td>Okinawa-ken</td>\n",
       "      <td>2012100000</td>\n",
       "      <td>2012</td>\n",
       "      <td>1411000</td>\n",
       "      <td>693000</td>\n",
       "      <td>719000</td>\n",
       "    </tr>\n",
       "  </tbody>\n",
       "</table>\n",
       "</div>"
      ],
      "text/plain": [
       "   AREA Code         AREA   YEAR Code  YEAR  \\\n",
       "0      47000  Okinawa-ken  2016100000  2016   \n",
       "1      47000  Okinawa-ken  2015100000  2015   \n",
       "2      47000  Okinawa-ken  2014100000  2014   \n",
       "3      47000  Okinawa-ken  2013100000  2013   \n",
       "4      47000  Okinawa-ken  2012100000  2012   \n",
       "\n",
       "   A1101_Total population (Both sexes)[person]  \\\n",
       "0                                      1439000   \n",
       "1                                      1433566   \n",
       "2                                      1426000   \n",
       "3                                      1419000   \n",
       "4                                      1411000   \n",
       "\n",
       "   A110101_Total population (Male)[person]  \\\n",
       "0                                   708000   \n",
       "1                                   704619   \n",
       "2                                   700000   \n",
       "3                                   697000   \n",
       "4                                   693000   \n",
       "\n",
       "   A110102_Total population (Female)[person]  \n",
       "0                                     732000  \n",
       "1                                     728947  \n",
       "2                                     725000  \n",
       "3                                     722000  \n",
       "4                                     719000  "
      ]
     },
     "execution_count": 7,
     "metadata": {},
     "output_type": "execute_result"
    }
   ],
   "source": [
    "df.head()"
   ]
  },
  {
   "cell_type": "markdown",
   "metadata": {},
   "source": [
    "Before we have a look at our dataframe, lets drop the columns AREA Code, AREA and YEAR Code. These are just taking up extra space and I already know all this data is for prefecture Okinawa."
   ]
  },
  {
   "cell_type": "code",
   "execution_count": 8,
   "metadata": {},
   "outputs": [],
   "source": [
    "df.drop(['AREA Code', 'AREA', 'YEAR Code'], axis=1, inplace=True)"
   ]
  },
  {
   "cell_type": "markdown",
   "metadata": {},
   "source": [
    "Again, before we look at our finish dataframe product, lets do the final cleaning of the remaining column names to make them a bit more readable. I'm going to use the new pandas method of set_axis."
   ]
  },
  {
   "cell_type": "code",
   "execution_count": 9,
   "metadata": {},
   "outputs": [],
   "source": [
    "df.set_axis(['YEAR', 'TOTAL', 'MALE', 'FEMALE'], axis='columns', inplace=True)"
   ]
  },
  {
   "cell_type": "markdown",
   "metadata": {},
   "source": [
    "Now lets take a look at the dataframe head() again."
   ]
  },
  {
   "cell_type": "code",
   "execution_count": 10,
   "metadata": {},
   "outputs": [
    {
     "data": {
      "text/html": [
       "<div>\n",
       "<style scoped>\n",
       "    .dataframe tbody tr th:only-of-type {\n",
       "        vertical-align: middle;\n",
       "    }\n",
       "\n",
       "    .dataframe tbody tr th {\n",
       "        vertical-align: top;\n",
       "    }\n",
       "\n",
       "    .dataframe thead th {\n",
       "        text-align: right;\n",
       "    }\n",
       "</style>\n",
       "<table border=\"1\" class=\"dataframe\">\n",
       "  <thead>\n",
       "    <tr style=\"text-align: right;\">\n",
       "      <th></th>\n",
       "      <th>YEAR</th>\n",
       "      <th>TOTAL</th>\n",
       "      <th>MALE</th>\n",
       "      <th>FEMALE</th>\n",
       "    </tr>\n",
       "  </thead>\n",
       "  <tbody>\n",
       "    <tr>\n",
       "      <th>0</th>\n",
       "      <td>2016</td>\n",
       "      <td>1439000</td>\n",
       "      <td>708000</td>\n",
       "      <td>732000</td>\n",
       "    </tr>\n",
       "    <tr>\n",
       "      <th>1</th>\n",
       "      <td>2015</td>\n",
       "      <td>1433566</td>\n",
       "      <td>704619</td>\n",
       "      <td>728947</td>\n",
       "    </tr>\n",
       "    <tr>\n",
       "      <th>2</th>\n",
       "      <td>2014</td>\n",
       "      <td>1426000</td>\n",
       "      <td>700000</td>\n",
       "      <td>725000</td>\n",
       "    </tr>\n",
       "    <tr>\n",
       "      <th>3</th>\n",
       "      <td>2013</td>\n",
       "      <td>1419000</td>\n",
       "      <td>697000</td>\n",
       "      <td>722000</td>\n",
       "    </tr>\n",
       "    <tr>\n",
       "      <th>4</th>\n",
       "      <td>2012</td>\n",
       "      <td>1411000</td>\n",
       "      <td>693000</td>\n",
       "      <td>719000</td>\n",
       "    </tr>\n",
       "  </tbody>\n",
       "</table>\n",
       "</div>"
      ],
      "text/plain": [
       "   YEAR    TOTAL    MALE  FEMALE\n",
       "0  2016  1439000  708000  732000\n",
       "1  2015  1433566  704619  728947\n",
       "2  2014  1426000  700000  725000\n",
       "3  2013  1419000  697000  722000\n",
       "4  2012  1411000  693000  719000"
      ]
     },
     "execution_count": 10,
     "metadata": {},
     "output_type": "execute_result"
    }
   ],
   "source": [
    "df.head()"
   ]
  },
  {
   "cell_type": "markdown",
   "metadata": {},
   "source": [
    "Looks sharp. Now lets check the shape and info one final time."
   ]
  },
  {
   "cell_type": "code",
   "execution_count": 11,
   "metadata": {},
   "outputs": [
    {
     "data": {
      "text/plain": [
       "(42, 4)"
      ]
     },
     "execution_count": 11,
     "metadata": {},
     "output_type": "execute_result"
    }
   ],
   "source": [
    "df.shape"
   ]
  },
  {
   "cell_type": "code",
   "execution_count": 12,
   "metadata": {},
   "outputs": [
    {
     "name": "stdout",
     "output_type": "stream",
     "text": [
      "<class 'pandas.core.frame.DataFrame'>\n",
      "RangeIndex: 42 entries, 0 to 41\n",
      "Data columns (total 4 columns):\n",
      "YEAR      42 non-null int64\n",
      "TOTAL     42 non-null int64\n",
      "MALE      42 non-null int64\n",
      "FEMALE    42 non-null int64\n",
      "dtypes: int64(4)\n",
      "memory usage: 1.4 KB\n"
     ]
    }
   ],
   "source": [
    "df.info()"
   ]
  },
  {
   "cell_type": "markdown",
   "metadata": {},
   "source": [
    "Just ran shape() and info() to ensure all values are counted as INTEGERs or FLOATs. Also just want to see how big our dataframe is and ensure our columns are properly counted. Time to run a quick and dirty plot."
   ]
  },
  {
   "cell_type": "code",
   "execution_count": 13,
   "metadata": {},
   "outputs": [
    {
     "data": {
      "image/png": "[encoded data removed]",
      "text/plain": [
       "<Figure size 432x288 with 1 Axes>"
      ]
     },
     "metadata": {
      "needs_background": "light"
     },
     "output_type": "display_data"
    }
   ],
   "source": [
    "df.plot(x='YEAR', y='TOTAL', style='o')\n",
    "plt.title('Population Of Okinawa')\n",
    "plt.xlabel('Years')\n",
    "plt.ylabel('Population')\n",
    "plt.show()"
   ]
  },
  {
   "cell_type": "code",
   "execution_count": 14,
   "metadata": {},
   "outputs": [
    {
     "data": {
      "image/png": "[encoded data removed]",
      "text/plain": [
       "<Figure size 432x288 with 2 Axes>"
      ]
     },
     "metadata": {
      "needs_background": "light"
     },
     "output_type": "display_data"
    }
   ],
   "source": [
    "df.plot(x='YEAR', y=['MALE', 'FEMALE'], stacked=True, kind='bar')\n",
    "ax = df['TOTAL'].plot(secondary_y=True, color='k', marker='o')\n",
    "ax.set_ylabel('Total')\n",
    "plt.show()"
   ]
  },
  {
   "cell_type": "markdown",
   "metadata": {},
   "source": [
    "This graph is ugly but we can fix that later. Right now I just remembered we should flip our entire dataframe so that the oldest year is on top indexed as 0. Lets flip the dataframe!"
   ]
  },
  {
   "cell_type": "code",
   "execution_count": 15,
   "metadata": {},
   "outputs": [
    {
     "data": {
      "text/html": [
       "<div>\n",
       "<style scoped>\n",
       "    .dataframe tbody tr th:only-of-type {\n",
       "        vertical-align: middle;\n",
       "    }\n",
       "\n",
       "    .dataframe tbody tr th {\n",
       "        vertical-align: top;\n",
       "    }\n",
       "\n",
       "    .dataframe thead th {\n",
       "        text-align: right;\n",
       "    }\n",
       "</style>\n",
       "<table border=\"1\" class=\"dataframe\">\n",
       "  <thead>\n",
       "    <tr style=\"text-align: right;\">\n",
       "      <th></th>\n",
       "      <th>YEAR</th>\n",
       "      <th>TOTAL</th>\n",
       "      <th>MALE</th>\n",
       "      <th>FEMALE</th>\n",
       "    </tr>\n",
       "  </thead>\n",
       "  <tbody>\n",
       "    <tr>\n",
       "      <th>0</th>\n",
       "      <td>2016</td>\n",
       "      <td>1439000</td>\n",
       "      <td>708000</td>\n",
       "      <td>732000</td>\n",
       "    </tr>\n",
       "    <tr>\n",
       "      <th>1</th>\n",
       "      <td>2015</td>\n",
       "      <td>1433566</td>\n",
       "      <td>704619</td>\n",
       "      <td>728947</td>\n",
       "    </tr>\n",
       "    <tr>\n",
       "      <th>2</th>\n",
       "      <td>2014</td>\n",
       "      <td>1426000</td>\n",
       "      <td>700000</td>\n",
       "      <td>725000</td>\n",
       "    </tr>\n",
       "    <tr>\n",
       "      <th>3</th>\n",
       "      <td>2013</td>\n",
       "      <td>1419000</td>\n",
       "      <td>697000</td>\n",
       "      <td>722000</td>\n",
       "    </tr>\n",
       "    <tr>\n",
       "      <th>4</th>\n",
       "      <td>2012</td>\n",
       "      <td>1411000</td>\n",
       "      <td>693000</td>\n",
       "      <td>719000</td>\n",
       "    </tr>\n",
       "  </tbody>\n",
       "</table>\n",
       "</div>"
      ],
      "text/plain": [
       "   YEAR    TOTAL    MALE  FEMALE\n",
       "0  2016  1439000  708000  732000\n",
       "1  2015  1433566  704619  728947\n",
       "2  2014  1426000  700000  725000\n",
       "3  2013  1419000  697000  722000\n",
       "4  2012  1411000  693000  719000"
      ]
     },
     "execution_count": 15,
     "metadata": {},
     "output_type": "execute_result"
    }
   ],
   "source": [
    "df.head()"
   ]
  },
  {
   "cell_type": "markdown",
   "metadata": {},
   "source": [
    "The easiest way to reverse the order is just by copying the dataframe and using a step slice. [start:end:step] so the first two are blank and -1 is in the step slice. Therefore the entire dataframe is copied over in reverse order. Thanks to user Grote in the Python Discord for the help!"
   ]
  },
  {
   "cell_type": "code",
   "execution_count": 16,
   "metadata": {},
   "outputs": [],
   "source": [
    "df = df.iloc[::-1]"
   ]
  },
  {
   "cell_type": "markdown",
   "metadata": {},
   "source": [
    "Now we will reset the index and use the drop=True to note we are getting rid of the old index."
   ]
  },
  {
   "cell_type": "code",
   "execution_count": 17,
   "metadata": {},
   "outputs": [],
   "source": [
    "df = df.reset_index(drop=True)"
   ]
  },
  {
   "cell_type": "markdown",
   "metadata": {},
   "source": [
    "Lets check our work."
   ]
  },
  {
   "cell_type": "code",
   "execution_count": 18,
   "metadata": {},
   "outputs": [
    {
     "data": {
      "text/html": [
       "<div>\n",
       "<style scoped>\n",
       "    .dataframe tbody tr th:only-of-type {\n",
       "        vertical-align: middle;\n",
       "    }\n",
       "\n",
       "    .dataframe tbody tr th {\n",
       "        vertical-align: top;\n",
       "    }\n",
       "\n",
       "    .dataframe thead th {\n",
       "        text-align: right;\n",
       "    }\n",
       "</style>\n",
       "<table border=\"1\" class=\"dataframe\">\n",
       "  <thead>\n",
       "    <tr style=\"text-align: right;\">\n",
       "      <th></th>\n",
       "      <th>YEAR</th>\n",
       "      <th>TOTAL</th>\n",
       "      <th>MALE</th>\n",
       "      <th>FEMALE</th>\n",
       "    </tr>\n",
       "  </thead>\n",
       "  <tbody>\n",
       "    <tr>\n",
       "      <th>0</th>\n",
       "      <td>1975</td>\n",
       "      <td>1042572</td>\n",
       "      <td>510754</td>\n",
       "      <td>531818</td>\n",
       "    </tr>\n",
       "    <tr>\n",
       "      <th>1</th>\n",
       "      <td>1976</td>\n",
       "      <td>1058000</td>\n",
       "      <td>519000</td>\n",
       "      <td>539000</td>\n",
       "    </tr>\n",
       "    <tr>\n",
       "      <th>2</th>\n",
       "      <td>1977</td>\n",
       "      <td>1071000</td>\n",
       "      <td>526000</td>\n",
       "      <td>545000</td>\n",
       "    </tr>\n",
       "    <tr>\n",
       "      <th>3</th>\n",
       "      <td>1978</td>\n",
       "      <td>1081000</td>\n",
       "      <td>530000</td>\n",
       "      <td>551000</td>\n",
       "    </tr>\n",
       "    <tr>\n",
       "      <th>4</th>\n",
       "      <td>1979</td>\n",
       "      <td>1094000</td>\n",
       "      <td>537000</td>\n",
       "      <td>556000</td>\n",
       "    </tr>\n",
       "  </tbody>\n",
       "</table>\n",
       "</div>"
      ],
      "text/plain": [
       "   YEAR    TOTAL    MALE  FEMALE\n",
       "0  1975  1042572  510754  531818\n",
       "1  1976  1058000  519000  539000\n",
       "2  1977  1071000  526000  545000\n",
       "3  1978  1081000  530000  551000\n",
       "4  1979  1094000  537000  556000"
      ]
     },
     "execution_count": 18,
     "metadata": {},
     "output_type": "execute_result"
    }
   ],
   "source": [
    "df.head()"
   ]
  },
  {
   "cell_type": "markdown",
   "metadata": {},
   "source": [
    "Awesome. Now lets try that plot one more time. Also, lets unstack since we can't really tell if one is growing over the other."
   ]
  },
  {
   "cell_type": "code",
   "execution_count": 19,
   "metadata": {},
   "outputs": [
    {
     "data": {
      "image/png": "[encoded data removed]",
      "text/plain": [
       "<Figure size 432x288 with 2 Axes>"
      ]
     },
     "metadata": {
      "needs_background": "light"
     },
     "output_type": "display_data"
    }
   ],
   "source": [
    "df.plot(x='YEAR', y=['MALE', 'FEMALE'], stacked=False, kind='bar')\n",
    "ax = df['TOTAL'].plot(secondary_y=True, color='k', marker='o')\n",
    "ax.set_ylabel('Total')\n",
    "plt.show()"
   ]
  },
  {
   "cell_type": "markdown",
   "metadata": {},
   "source": [
    "Much better. Reading normally from left to right. But this is too compact and ugly. Lets try a line graph."
   ]
  },
  {
   "cell_type": "code",
   "execution_count": 20,
   "metadata": {},
   "outputs": [
    {
     "data": {
      "text/plain": [
       "<matplotlib.axes._subplots.AxesSubplot at 0x7f04d39a8240>"
      ]
     },
     "execution_count": 20,
     "metadata": {},
     "output_type": "execute_result"
    },
    {
     "data": {
      "image/png": "[encoded data removed]",
      "text/plain": [
       "<Figure size 432x288 with 1 Axes>"
      ]
     },
     "metadata": {
      "needs_background": "light"
     },
     "output_type": "display_data"
    }
   ],
   "source": [
    "df.plot(x='YEAR', y=['MALE', 'FEMALE'], grid=True)"
   ]
  },
  {
   "cell_type": "markdown",
   "metadata": {},
   "source": [
    "Interesting. Just by looking at this simple graph, we can see that there is a gap which might be growing between population of women and men. Also, while the women population is quite normal, the men's population had a slightly noticeable decrease sometime before 2010, maybe 2008. Let me remember how many rows we have of data."
   ]
  },
  {
   "cell_type": "code",
   "execution_count": 21,
   "metadata": {},
   "outputs": [
    {
     "data": {
      "text/plain": [
       "(42, 4)"
      ]
     },
     "execution_count": 21,
     "metadata": {},
     "output_type": "execute_result"
    }
   ],
   "source": [
    "df.shape"
   ]
  },
  {
   "cell_type": "markdown",
   "metadata": {},
   "source": [
    "Oh right, 42. Ok. So let me look at the bottom 15 rows using slice again."
   ]
  },
  {
   "cell_type": "code",
   "execution_count": 22,
   "metadata": {},
   "outputs": [
    {
     "data": {
      "text/html": [
       "<div>\n",
       "<style scoped>\n",
       "    .dataframe tbody tr th:only-of-type {\n",
       "        vertical-align: middle;\n",
       "    }\n",
       "\n",
       "    .dataframe tbody tr th {\n",
       "        vertical-align: top;\n",
       "    }\n",
       "\n",
       "    .dataframe thead th {\n",
       "        text-align: right;\n",
       "    }\n",
       "</style>\n",
       "<table border=\"1\" class=\"dataframe\">\n",
       "  <thead>\n",
       "    <tr style=\"text-align: right;\">\n",
       "      <th></th>\n",
       "      <th>YEAR</th>\n",
       "      <th>TOTAL</th>\n",
       "      <th>MALE</th>\n",
       "      <th>FEMALE</th>\n",
       "    </tr>\n",
       "  </thead>\n",
       "  <tbody>\n",
       "    <tr>\n",
       "      <th>27</th>\n",
       "      <td>2002</td>\n",
       "      <td>1336000</td>\n",
       "      <td>657000</td>\n",
       "      <td>679000</td>\n",
       "    </tr>\n",
       "    <tr>\n",
       "      <th>28</th>\n",
       "      <td>2003</td>\n",
       "      <td>1345000</td>\n",
       "      <td>661000</td>\n",
       "      <td>684000</td>\n",
       "    </tr>\n",
       "    <tr>\n",
       "      <th>29</th>\n",
       "      <td>2004</td>\n",
       "      <td>1353000</td>\n",
       "      <td>665000</td>\n",
       "      <td>689000</td>\n",
       "    </tr>\n",
       "    <tr>\n",
       "      <th>30</th>\n",
       "      <td>2005</td>\n",
       "      <td>1361594</td>\n",
       "      <td>668502</td>\n",
       "      <td>693092</td>\n",
       "    </tr>\n",
       "    <tr>\n",
       "      <th>31</th>\n",
       "      <td>2006</td>\n",
       "      <td>1369000</td>\n",
       "      <td>672000</td>\n",
       "      <td>697000</td>\n",
       "    </tr>\n",
       "    <tr>\n",
       "      <th>32</th>\n",
       "      <td>2007</td>\n",
       "      <td>1374000</td>\n",
       "      <td>674000</td>\n",
       "      <td>700000</td>\n",
       "    </tr>\n",
       "    <tr>\n",
       "      <th>33</th>\n",
       "      <td>2008</td>\n",
       "      <td>1378000</td>\n",
       "      <td>675000</td>\n",
       "      <td>703000</td>\n",
       "    </tr>\n",
       "    <tr>\n",
       "      <th>34</th>\n",
       "      <td>2009</td>\n",
       "      <td>1385000</td>\n",
       "      <td>679000</td>\n",
       "      <td>706000</td>\n",
       "    </tr>\n",
       "    <tr>\n",
       "      <th>35</th>\n",
       "      <td>2010</td>\n",
       "      <td>1392818</td>\n",
       "      <td>683328</td>\n",
       "      <td>709490</td>\n",
       "    </tr>\n",
       "    <tr>\n",
       "      <th>36</th>\n",
       "      <td>2011</td>\n",
       "      <td>1402000</td>\n",
       "      <td>688000</td>\n",
       "      <td>714000</td>\n",
       "    </tr>\n",
       "    <tr>\n",
       "      <th>37</th>\n",
       "      <td>2012</td>\n",
       "      <td>1411000</td>\n",
       "      <td>693000</td>\n",
       "      <td>719000</td>\n",
       "    </tr>\n",
       "    <tr>\n",
       "      <th>38</th>\n",
       "      <td>2013</td>\n",
       "      <td>1419000</td>\n",
       "      <td>697000</td>\n",
       "      <td>722000</td>\n",
       "    </tr>\n",
       "    <tr>\n",
       "      <th>39</th>\n",
       "      <td>2014</td>\n",
       "      <td>1426000</td>\n",
       "      <td>700000</td>\n",
       "      <td>725000</td>\n",
       "    </tr>\n",
       "    <tr>\n",
       "      <th>40</th>\n",
       "      <td>2015</td>\n",
       "      <td>1433566</td>\n",
       "      <td>704619</td>\n",
       "      <td>728947</td>\n",
       "    </tr>\n",
       "    <tr>\n",
       "      <th>41</th>\n",
       "      <td>2016</td>\n",
       "      <td>1439000</td>\n",
       "      <td>708000</td>\n",
       "      <td>732000</td>\n",
       "    </tr>\n",
       "  </tbody>\n",
       "</table>\n",
       "</div>"
      ],
      "text/plain": [
       "    YEAR    TOTAL    MALE  FEMALE\n",
       "27  2002  1336000  657000  679000\n",
       "28  2003  1345000  661000  684000\n",
       "29  2004  1353000  665000  689000\n",
       "30  2005  1361594  668502  693092\n",
       "31  2006  1369000  672000  697000\n",
       "32  2007  1374000  674000  700000\n",
       "33  2008  1378000  675000  703000\n",
       "34  2009  1385000  679000  706000\n",
       "35  2010  1392818  683328  709490\n",
       "36  2011  1402000  688000  714000\n",
       "37  2012  1411000  693000  719000\n",
       "38  2013  1419000  697000  722000\n",
       "39  2014  1426000  700000  725000\n",
       "40  2015  1433566  704619  728947\n",
       "41  2016  1439000  708000  732000"
      ]
     },
     "execution_count": 22,
     "metadata": {},
     "output_type": "execute_result"
    }
   ],
   "source": [
    "df.iloc[-15:]"
   ]
  },
  {
   "cell_type": "markdown",
   "metadata": {},
   "source": [
    "Great, 2008 is in there with some years to chew on the top. Lets find the percentage change in this little part of the dataset to see how much that slow down was and exactly where it was. Now lets use loc to show only a part of the dataframe and pct_change to find the percentage change from previous year to next."
   ]
  },
  {
   "cell_type": "code",
   "execution_count": 23,
   "metadata": {},
   "outputs": [
    {
     "data": {
      "text/html": [
       "<div>\n",
       "<style scoped>\n",
       "    .dataframe tbody tr th:only-of-type {\n",
       "        vertical-align: middle;\n",
       "    }\n",
       "\n",
       "    .dataframe tbody tr th {\n",
       "        vertical-align: top;\n",
       "    }\n",
       "\n",
       "    .dataframe thead th {\n",
       "        text-align: right;\n",
       "    }\n",
       "</style>\n",
       "<table border=\"1\" class=\"dataframe\">\n",
       "  <thead>\n",
       "    <tr style=\"text-align: right;\">\n",
       "      <th></th>\n",
       "      <th>MALE</th>\n",
       "      <th>FEMALE</th>\n",
       "    </tr>\n",
       "  </thead>\n",
       "  <tbody>\n",
       "    <tr>\n",
       "      <th>27</th>\n",
       "      <td>NaN</td>\n",
       "      <td>NaN</td>\n",
       "    </tr>\n",
       "    <tr>\n",
       "      <th>28</th>\n",
       "      <td>0.006088</td>\n",
       "      <td>0.007364</td>\n",
       "    </tr>\n",
       "    <tr>\n",
       "      <th>29</th>\n",
       "      <td>0.006051</td>\n",
       "      <td>0.007310</td>\n",
       "    </tr>\n",
       "    <tr>\n",
       "      <th>30</th>\n",
       "      <td>0.005266</td>\n",
       "      <td>0.005939</td>\n",
       "    </tr>\n",
       "    <tr>\n",
       "      <th>31</th>\n",
       "      <td>0.005233</td>\n",
       "      <td>0.005639</td>\n",
       "    </tr>\n",
       "    <tr>\n",
       "      <th>32</th>\n",
       "      <td>0.002976</td>\n",
       "      <td>0.004304</td>\n",
       "    </tr>\n",
       "    <tr>\n",
       "      <th>33</th>\n",
       "      <td>0.001484</td>\n",
       "      <td>0.004286</td>\n",
       "    </tr>\n",
       "    <tr>\n",
       "      <th>34</th>\n",
       "      <td>0.005926</td>\n",
       "      <td>0.004267</td>\n",
       "    </tr>\n",
       "    <tr>\n",
       "      <th>35</th>\n",
       "      <td>0.006374</td>\n",
       "      <td>0.004943</td>\n",
       "    </tr>\n",
       "    <tr>\n",
       "      <th>36</th>\n",
       "      <td>0.006837</td>\n",
       "      <td>0.006357</td>\n",
       "    </tr>\n",
       "    <tr>\n",
       "      <th>37</th>\n",
       "      <td>0.007267</td>\n",
       "      <td>0.007003</td>\n",
       "    </tr>\n",
       "    <tr>\n",
       "      <th>38</th>\n",
       "      <td>0.005772</td>\n",
       "      <td>0.004172</td>\n",
       "    </tr>\n",
       "    <tr>\n",
       "      <th>39</th>\n",
       "      <td>0.004304</td>\n",
       "      <td>0.004155</td>\n",
       "    </tr>\n",
       "    <tr>\n",
       "      <th>40</th>\n",
       "      <td>0.006599</td>\n",
       "      <td>0.005444</td>\n",
       "    </tr>\n",
       "    <tr>\n",
       "      <th>41</th>\n",
       "      <td>0.004798</td>\n",
       "      <td>0.004188</td>\n",
       "    </tr>\n",
       "  </tbody>\n",
       "</table>\n",
       "</div>"
      ],
      "text/plain": [
       "        MALE    FEMALE\n",
       "27       NaN       NaN\n",
       "28  0.006088  0.007364\n",
       "29  0.006051  0.007310\n",
       "30  0.005266  0.005939\n",
       "31  0.005233  0.005639\n",
       "32  0.002976  0.004304\n",
       "33  0.001484  0.004286\n",
       "34  0.005926  0.004267\n",
       "35  0.006374  0.004943\n",
       "36  0.006837  0.006357\n",
       "37  0.007267  0.007003\n",
       "38  0.005772  0.004172\n",
       "39  0.004304  0.004155\n",
       "40  0.006599  0.005444\n",
       "41  0.004798  0.004188"
      ]
     },
     "execution_count": 23,
     "metadata": {},
     "output_type": "execute_result"
    }
   ],
   "source": [
    "df.loc[27::,['MALE', 'FEMALE']].pct_change()"
   ]
  },
  {
   "cell_type": "markdown",
   "metadata": {},
   "source": [
    "You can see that while the FEMALE percentage change from these years is generally above .4 percent, the MALE had a slow down at index 33 which is year 2008. The change dropped down to .001484 here. OK. Now lets move on to predictions!\n",
    "\n",
    "First, lets seperate our data into two arrays, attributes and labels. Attributes are independent variables and labels are depend variables of which we are trying to predict. We want to predict the population in the future."
   ]
  },
  {
   "cell_type": "code",
   "execution_count": 85,
   "metadata": {},
   "outputs": [],
   "source": [
    "X = np.array(df[['YEAR', 'MALE', 'FEMALE']])"
   ]
  },
  {
   "cell_type": "code",
   "execution_count": 93,
   "metadata": {},
   "outputs": [
    {
     "name": "stdout",
     "output_type": "stream",
     "text": [
      "[[  1975 510754 531818]\n",
      " [  1976 519000 539000]\n",
      " [  1977 526000 545000]\n",
      " [  1978 530000 551000]\n",
      " [  1979 537000 556000]\n",
      " [  1980 543692 562867]\n",
      " [  1981 550000 569000]\n",
      " [  1982 557000 575000]\n",
      " [  1983 564000 582000]\n",
      " [  1984 572000 589000]\n",
      " [  1985 581102 597995]\n",
      " [  1986 585000 603000]\n",
      " [  1987 589000 609000]\n",
      " [  1988 593000 615000]\n",
      " [  1989 596000 620000]\n",
      " [  1990 598669 623729]\n",
      " [  1991 603000 627000]\n",
      " [  1992 607000 632000]\n",
      " [  1993 613000 637000]\n",
      " [  1994 619000 643000]\n",
      " [  1995 624737 648703]\n",
      " [  1996 629000 653000]\n",
      " [  1997 633000 657000]\n",
      " [  1998 637000 661000]\n",
      " [  1999 642000 665000]\n",
      " [  2000 647877 670343]\n",
      " [  2001 652000 675000]\n",
      " [  2002 657000 679000]\n",
      " [  2003 661000 684000]\n",
      " [  2004 665000 689000]\n",
      " [  2005 668502 693092]\n",
      " [  2006 672000 697000]\n",
      " [  2007 674000 700000]\n",
      " [  2008 675000 703000]\n",
      " [  2009 679000 706000]\n",
      " [  2010 683328 709490]\n",
      " [  2011 688000 714000]\n",
      " [  2012 693000 719000]\n",
      " [  2013 697000 722000]\n",
      " [  2014 700000 725000]\n",
      " [  2015 704619 728947]\n",
      " [  2016 708000 732000]]\n"
     ]
    },
    {
     "data": {
      "text/plain": [
       "(42, 3)"
      ]
     },
     "execution_count": 93,
     "metadata": {},
     "output_type": "execute_result"
    }
   ],
   "source": [
    "print(X)\n",
    "X.shape"
   ]
  },
  {
   "cell_type": "code",
   "execution_count": 92,
   "metadata": {},
   "outputs": [],
   "source": [
    "y = np.array(df[['TOTAL']])"
   ]
  },
  {
   "cell_type": "code",
   "execution_count": 94,
   "metadata": {},
   "outputs": [
    {
     "name": "stdout",
     "output_type": "stream",
     "text": [
      "[[1042572]\n",
      " [1058000]\n",
      " [1071000]\n",
      " [1081000]\n",
      " [1094000]\n",
      " [1106559]\n",
      " [1119000]\n",
      " [1132000]\n",
      " [1146000]\n",
      " [1161000]\n",
      " [1179097]\n",
      " [1188000]\n",
      " [1199000]\n",
      " [1208000]\n",
      " [1215000]\n",
      " [1222398]\n",
      " [1230000]\n",
      " [1239000]\n",
      " [1250000]\n",
      " [1262000]\n",
      " [1273440]\n",
      " [1282000]\n",
      " [1289000]\n",
      " [1298000]\n",
      " [1308000]\n",
      " [1318220]\n",
      " [1327000]\n",
      " [1336000]\n",
      " [1345000]\n",
      " [1353000]\n",
      " [1361594]\n",
      " [1369000]\n",
      " [1374000]\n",
      " [1378000]\n",
      " [1385000]\n",
      " [1392818]\n",
      " [1402000]\n",
      " [1411000]\n",
      " [1419000]\n",
      " [1426000]\n",
      " [1433566]\n",
      " [1439000]]\n"
     ]
    },
    {
     "data": {
      "text/plain": [
       "(42, 1)"
      ]
     },
     "execution_count": 94,
     "metadata": {},
     "output_type": "execute_result"
    }
   ],
   "source": [
    "print(y)\n",
    "y.shape"
   ]
  },
  {
   "cell_type": "code",
   "execution_count": 95,
   "metadata": {},
   "outputs": [],
   "source": [
    "X_train, X_test, y_train, y_test = train_test_split(X, y)"
   ]
  },
  {
   "cell_type": "code",
   "execution_count": 96,
   "metadata": {},
   "outputs": [],
   "source": [
    "reg = LinearRegression()"
   ]
  },
  {
   "cell_type": "code",
   "execution_count": 97,
   "metadata": {},
   "outputs": [
    {
     "data": {
      "text/plain": [
       "LinearRegression(copy_X=True, fit_intercept=True, n_jobs=None,\n",
       "         normalize=False)"
      ]
     },
     "execution_count": 97,
     "metadata": {},
     "output_type": "execute_result"
    }
   ],
   "source": [
    "reg.fit(X_train, y_train)"
   ]
  },
  {
   "cell_type": "code",
   "execution_count": 98,
   "metadata": {},
   "outputs": [
    {
     "name": "stdout",
     "output_type": "stream",
     "text": [
      "[11382.18906538]\n"
     ]
    }
   ],
   "source": [
    "print(reg.intercept_)"
   ]
  },
  {
   "cell_type": "code",
   "execution_count": 100,
   "metadata": {},
   "outputs": [
    {
     "name": "stdout",
     "output_type": "stream",
     "text": [
      "[[-5.58985786  1.02671868  0.97385709]]\n"
     ]
    }
   ],
   "source": [
    "print(reg.coef_)"
   ]
  },
  {
   "cell_type": "code",
   "execution_count": 101,
   "metadata": {},
   "outputs": [],
   "source": [
    "y_pred = reg.predict(X_test)"
   ]
  },
  {
   "cell_type": "code",
   "execution_count": 109,
   "metadata": {},
   "outputs": [
    {
     "data": {
      "text/plain": [
       "(11, 1)"
      ]
     },
     "execution_count": 109,
     "metadata": {},
     "output_type": "execute_result"
    }
   ],
   "source": [
    "y_test.shape"
   ]
  },
  {
   "cell_type": "code",
   "execution_count": 103,
   "metadata": {},
   "outputs": [
    {
     "ename": "ValueError",
     "evalue": "x and y must be the same size",
     "output_type": "error",
     "traceback": [
      "\u001b[0;31m---------------------------------------------------------------------------\u001b[0m",
      "\u001b[0;31mValueError\u001b[0m                                Traceback (most recent call last)",
      "\u001b[0;32m<ipython-input-103-5bcd29c0495f>\u001b[0m in \u001b[0;36m<module>\u001b[0;34m\u001b[0m\n\u001b[0;32m----> 1\u001b[0;31m \u001b[0mplt\u001b[0m\u001b[0;34m.\u001b[0m\u001b[0mscatter\u001b[0m\u001b[0;34m(\u001b[0m\u001b[0mX_test\u001b[0m\u001b[0;34m,\u001b[0m \u001b[0my_test\u001b[0m\u001b[0;34m,\u001b[0m \u001b[0mcolor\u001b[0m\u001b[0;34m=\u001b[0m\u001b[0;34m'black'\u001b[0m\u001b[0;34m)\u001b[0m\u001b[0;34m\u001b[0m\u001b[0;34m\u001b[0m\u001b[0m\n\u001b[0m\u001b[1;32m      2\u001b[0m \u001b[0mplt\u001b[0m\u001b[0;34m.\u001b[0m\u001b[0mplot\u001b[0m\u001b[0;34m(\u001b[0m\u001b[0mX_test\u001b[0m\u001b[0;34m,\u001b[0m \u001b[0my_pred\u001b[0m\u001b[0;34m,\u001b[0m \u001b[0mcolor\u001b[0m\u001b[0;34m=\u001b[0m\u001b[0;34m'blue'\u001b[0m\u001b[0;34m,\u001b[0m \u001b[0mlinewidth\u001b[0m\u001b[0;34m=\u001b[0m\u001b[0;36m3\u001b[0m\u001b[0;34m)\u001b[0m\u001b[0;34m\u001b[0m\u001b[0;34m\u001b[0m\u001b[0m\n\u001b[1;32m      3\u001b[0m \u001b[0;34m\u001b[0m\u001b[0m\n\u001b[1;32m      4\u001b[0m \u001b[0mplt\u001b[0m\u001b[0;34m.\u001b[0m\u001b[0mxticks\u001b[0m\u001b[0;34m(\u001b[0m\u001b[0;34m(\u001b[0m\u001b[0;34m)\u001b[0m\u001b[0;34m)\u001b[0m\u001b[0;34m\u001b[0m\u001b[0;34m\u001b[0m\u001b[0m\n\u001b[1;32m      5\u001b[0m \u001b[0mplt\u001b[0m\u001b[0;34m.\u001b[0m\u001b[0myticks\u001b[0m\u001b[0;34m(\u001b[0m\u001b[0;34m(\u001b[0m\u001b[0;34m)\u001b[0m\u001b[0;34m)\u001b[0m\u001b[0;34m\u001b[0m\u001b[0;34m\u001b[0m\u001b[0m\n",
      "\u001b[0;32m/usr/local/lib64/python3.7/site-packages/matplotlib/pyplot.py\u001b[0m in \u001b[0;36mscatter\u001b[0;34m(x, y, s, c, marker, cmap, norm, vmin, vmax, alpha, linewidths, verts, edgecolors, data, **kwargs)\u001b[0m\n\u001b[1;32m   2862\u001b[0m         \u001b[0mvmin\u001b[0m\u001b[0;34m=\u001b[0m\u001b[0mvmin\u001b[0m\u001b[0;34m,\u001b[0m \u001b[0mvmax\u001b[0m\u001b[0;34m=\u001b[0m\u001b[0mvmax\u001b[0m\u001b[0;34m,\u001b[0m \u001b[0malpha\u001b[0m\u001b[0;34m=\u001b[0m\u001b[0malpha\u001b[0m\u001b[0;34m,\u001b[0m \u001b[0mlinewidths\u001b[0m\u001b[0;34m=\u001b[0m\u001b[0mlinewidths\u001b[0m\u001b[0;34m,\u001b[0m\u001b[0;34m\u001b[0m\u001b[0;34m\u001b[0m\u001b[0m\n\u001b[1;32m   2863\u001b[0m         verts=verts, edgecolors=edgecolors, **({\"data\": data} if data\n\u001b[0;32m-> 2864\u001b[0;31m         is not None else {}), **kwargs)\n\u001b[0m\u001b[1;32m   2865\u001b[0m     \u001b[0msci\u001b[0m\u001b[0;34m(\u001b[0m\u001b[0m__ret\u001b[0m\u001b[0;34m)\u001b[0m\u001b[0;34m\u001b[0m\u001b[0;34m\u001b[0m\u001b[0m\n\u001b[1;32m   2866\u001b[0m     \u001b[0;32mreturn\u001b[0m \u001b[0m__ret\u001b[0m\u001b[0;34m\u001b[0m\u001b[0;34m\u001b[0m\u001b[0m\n",
      "\u001b[0;32m/usr/local/lib64/python3.7/site-packages/matplotlib/__init__.py\u001b[0m in \u001b[0;36minner\u001b[0;34m(ax, data, *args, **kwargs)\u001b[0m\n\u001b[1;32m   1808\u001b[0m                         \u001b[0;34m\"the Matplotlib list!)\"\u001b[0m \u001b[0;34m%\u001b[0m \u001b[0;34m(\u001b[0m\u001b[0mlabel_namer\u001b[0m\u001b[0;34m,\u001b[0m \u001b[0mfunc\u001b[0m\u001b[0;34m.\u001b[0m\u001b[0m__name__\u001b[0m\u001b[0;34m)\u001b[0m\u001b[0;34m,\u001b[0m\u001b[0;34m\u001b[0m\u001b[0;34m\u001b[0m\u001b[0m\n\u001b[1;32m   1809\u001b[0m                         RuntimeWarning, stacklevel=2)\n\u001b[0;32m-> 1810\u001b[0;31m             \u001b[0;32mreturn\u001b[0m \u001b[0mfunc\u001b[0m\u001b[0;34m(\u001b[0m\u001b[0max\u001b[0m\u001b[0;34m,\u001b[0m \u001b[0;34m*\u001b[0m\u001b[0margs\u001b[0m\u001b[0;34m,\u001b[0m \u001b[0;34m**\u001b[0m\u001b[0mkwargs\u001b[0m\u001b[0;34m)\u001b[0m\u001b[0;34m\u001b[0m\u001b[0;34m\u001b[0m\u001b[0m\n\u001b[0m\u001b[1;32m   1811\u001b[0m \u001b[0;34m\u001b[0m\u001b[0m\n\u001b[1;32m   1812\u001b[0m         inner.__doc__ = _add_data_doc(inner.__doc__,\n",
      "\u001b[0;32m/usr/local/lib64/python3.7/site-packages/matplotlib/axes/_axes.py\u001b[0m in \u001b[0;36mscatter\u001b[0;34m(self, x, y, s, c, marker, cmap, norm, vmin, vmax, alpha, linewidths, verts, edgecolors, **kwargs)\u001b[0m\n\u001b[1;32m   4180\u001b[0m         \u001b[0my\u001b[0m \u001b[0;34m=\u001b[0m \u001b[0mnp\u001b[0m\u001b[0;34m.\u001b[0m\u001b[0mma\u001b[0m\u001b[0;34m.\u001b[0m\u001b[0mravel\u001b[0m\u001b[0;34m(\u001b[0m\u001b[0my\u001b[0m\u001b[0;34m)\u001b[0m\u001b[0;34m\u001b[0m\u001b[0;34m\u001b[0m\u001b[0m\n\u001b[1;32m   4181\u001b[0m         \u001b[0;32mif\u001b[0m \u001b[0mx\u001b[0m\u001b[0;34m.\u001b[0m\u001b[0msize\u001b[0m \u001b[0;34m!=\u001b[0m \u001b[0my\u001b[0m\u001b[0;34m.\u001b[0m\u001b[0msize\u001b[0m\u001b[0;34m:\u001b[0m\u001b[0;34m\u001b[0m\u001b[0;34m\u001b[0m\u001b[0m\n\u001b[0;32m-> 4182\u001b[0;31m             \u001b[0;32mraise\u001b[0m \u001b[0mValueError\u001b[0m\u001b[0;34m(\u001b[0m\u001b[0;34m\"x and y must be the same size\"\u001b[0m\u001b[0;34m)\u001b[0m\u001b[0;34m\u001b[0m\u001b[0;34m\u001b[0m\u001b[0m\n\u001b[0m\u001b[1;32m   4183\u001b[0m \u001b[0;34m\u001b[0m\u001b[0m\n\u001b[1;32m   4184\u001b[0m         \u001b[0;32mif\u001b[0m \u001b[0ms\u001b[0m \u001b[0;32mis\u001b[0m \u001b[0;32mNone\u001b[0m\u001b[0;34m:\u001b[0m\u001b[0;34m\u001b[0m\u001b[0;34m\u001b[0m\u001b[0m\n",
      "\u001b[0;31mValueError\u001b[0m: x and y must be the same size"
     ]
    },
    {
     "data": {
      "image/png": "[encoded data removed]",
      "text/plain": [
       "<Figure size 432x288 with 1 Axes>"
      ]
     },
     "metadata": {
      "needs_background": "light"
     },
     "output_type": "display_data"
    }
   ],
   "source": [
    "plt.scatter(X_test, y_test, color='black')\n",
    "plt.plot(X_test, y_pred, color='blue', linewidth=3)\n",
    "\n",
    "plt.xticks(())\n",
    "plt.yticks(())\n",
    "\n",
    "plt.show()"
   ]
  },
  {
   "cell_type": "code",
   "execution_count": null,
   "metadata": {},
   "outputs": [],
   "source": []
  }
 ],
 "metadata": {
  "kernelspec": {
   "display_name": "Python 3",
   "language": "python",
   "name": "python3"
  },
  "language_info": {
   "codemirror_mode": {
    "name": "ipython",
    "version": 3
   },
   "file_extension": ".py",
   "mimetype": "text/x-python",
   "name": "python",
   "nbconvert_exporter": "python",
   "pygments_lexer": "ipython3",
   "version": "3.7.2"
  }
 },
 "nbformat": 4,
 "nbformat_minor": 2
}
